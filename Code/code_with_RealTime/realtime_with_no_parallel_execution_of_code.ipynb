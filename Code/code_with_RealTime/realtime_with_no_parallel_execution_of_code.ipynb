{
 "cells": [
  {
   "cell_type": "code",
   "execution_count": null,
   "id": "ada35267",
   "metadata": {},
   "outputs": [],
   "source": []
  },
  {
   "cell_type": "code",
   "execution_count": 1,
   "id": "8a2f0786",
   "metadata": {},
   "outputs": [
    {
     "name": "stdout",
     "output_type": "stream",
     "text": [
      "Requirement already satisfied: opencv-python in c:\\users\\future\\.conda\\envs\\gp\\lib\\site-packages (4.9.0.80)\n",
      "Requirement already satisfied: numpy>=1.17.0 in c:\\users\\future\\.conda\\envs\\gp\\lib\\site-packages (from opencv-python) (1.21.6)\n"
     ]
    }
   ],
   "source": [
    "!pip install opencv-python"
   ]
  },
  {
   "cell_type": "code",
   "execution_count": 2,
   "id": "7783a76d",
   "metadata": {},
   "outputs": [
    {
     "name": "stdout",
     "output_type": "stream",
     "text": [
      "Requirement already satisfied: pip in c:\\users\\future\\.conda\\envs\\gp\\lib\\site-packages (24.0)\n"
     ]
    }
   ],
   "source": [
    "!python -m pip install --upgrade pip"
   ]
  },
  {
   "cell_type": "code",
   "execution_count": 3,
   "id": "7049c673",
   "metadata": {},
   "outputs": [
    {
     "name": "stdout",
     "output_type": "stream",
     "text": [
      "Requirement already satisfied: moviepy in c:\\users\\future\\.conda\\envs\\gp\\lib\\site-packages (1.0.3)\n",
      "Requirement already satisfied: decorator<5.0,>=4.0.2 in c:\\users\\future\\.conda\\envs\\gp\\lib\\site-packages (from moviepy) (4.4.2)\n",
      "Requirement already satisfied: tqdm<5.0,>=4.11.2 in c:\\users\\future\\.conda\\envs\\gp\\lib\\site-packages (from moviepy) (4.66.2)\n",
      "Requirement already satisfied: requests<3.0,>=2.8.1 in c:\\users\\future\\.conda\\envs\\gp\\lib\\site-packages (from moviepy) (2.31.0)\n",
      "Requirement already satisfied: proglog<=1.0.0 in c:\\users\\future\\.conda\\envs\\gp\\lib\\site-packages (from moviepy) (0.1.10)\n",
      "Requirement already satisfied: numpy>=1.17.3 in c:\\users\\future\\.conda\\envs\\gp\\lib\\site-packages (from moviepy) (1.21.6)\n",
      "Requirement already satisfied: imageio<3.0,>=2.5 in c:\\users\\future\\.conda\\envs\\gp\\lib\\site-packages (from moviepy) (2.31.2)\n",
      "Requirement already satisfied: imageio-ffmpeg>=0.2.0 in c:\\users\\future\\.conda\\envs\\gp\\lib\\site-packages (from moviepy) (0.4.9)\n",
      "Requirement already satisfied: pillow>=8.3.2 in c:\\users\\future\\.conda\\envs\\gp\\lib\\site-packages (from imageio<3.0,>=2.5->moviepy) (9.5.0)\n",
      "Requirement already satisfied: setuptools in c:\\users\\future\\.conda\\envs\\gp\\lib\\site-packages (from imageio-ffmpeg>=0.2.0->moviepy) (65.6.3)\n",
      "Requirement already satisfied: charset-normalizer<4,>=2 in c:\\users\\future\\.conda\\envs\\gp\\lib\\site-packages (from requests<3.0,>=2.8.1->moviepy) (2.0.4)\n",
      "Requirement already satisfied: idna<4,>=2.5 in c:\\users\\future\\.conda\\envs\\gp\\lib\\site-packages (from requests<3.0,>=2.8.1->moviepy) (3.4)\n",
      "Requirement already satisfied: urllib3<3,>=1.21.1 in c:\\users\\future\\.conda\\envs\\gp\\lib\\site-packages (from requests<3.0,>=2.8.1->moviepy) (2.0.7)\n",
      "Requirement already satisfied: certifi>=2017.4.17 in c:\\users\\future\\.conda\\envs\\gp\\lib\\site-packages (from requests<3.0,>=2.8.1->moviepy) (2020.6.20)\n",
      "Requirement already satisfied: colorama in c:\\users\\future\\.conda\\envs\\gp\\lib\\site-packages (from tqdm<5.0,>=4.11.2->moviepy) (0.4.6)\n"
     ]
    }
   ],
   "source": [
    "!pip install moviepy"
   ]
  },
  {
   "cell_type": "code",
   "execution_count": 4,
   "id": "832da326",
   "metadata": {},
   "outputs": [
    {
     "name": "stderr",
     "output_type": "stream",
     "text": [
      "C:\\Users\\future\\.conda\\envs\\gp\\lib\\site-packages\\tqdm\\auto.py:21: TqdmWarning: IProgress not found. Please update jupyter and ipywidgets. See https://ipywidgets.readthedocs.io/en/stable/user_install.html\n",
      "  from .autonotebook import tqdm as notebook_tqdm\n"
     ]
    }
   ],
   "source": [
    "import torch\n",
    "import torch.nn as nn\n",
    "import matplotlib.pyplot as plt\n",
    "import numpy as np\n",
    "import pandas as pd\n",
    "import os, glob\n",
    "import librosa\n",
    "import librosa.display\n",
    "import IPython\n",
    "from IPython.display import Audio\n",
    "from IPython.display import Image\n",
    "import pickle\n",
    "import warnings; warnings.filterwarnings('ignore') #matplot lib complains about librosa\n",
    "# !pip install -U librosa\n",
    "from pydub import silence, AudioSegment\n",
    "import IPython.display as ipd\n",
    "import  cairosvg\n",
    "import  python_avatars  as  pa\n",
    "import random as random\n",
    "from enum import Enum\n",
    "from matplotlib import image\n",
    "import time\n",
    "import cv2\n",
    "from moviepy.editor import AudioFileClip,VideoFileClip,concatenate_videoclips\n",
    "import imageio.v3 as imageio"
   ]
  },
  {
   "cell_type": "code",
   "execution_count": 5,
   "id": "26b4e508",
   "metadata": {},
   "outputs": [],
   "source": [
    "def make_test(model,criterion):\n",
    "    def validate_t(X):\n",
    "        with torch.no_grad():\n",
    "            model.eval()\n",
    "            output_logits, output_softmax = model(X)\n",
    "            predictions = torch.argmax(output_softmax,dim=1)\n",
    "        return predictions\n",
    "    return validate_t"
   ]
  },
  {
   "cell_type": "code",
   "execution_count": 6,
   "id": "710bbf27",
   "metadata": {},
   "outputs": [],
   "source": [
    "def load_checkpoint(optimizer, model, filename):\n",
    "    checkpoint_dict = torch.load(filename)\n",
    "    epoch = checkpoint_dict['epoch']\n",
    "    model.load_state_dict(checkpoint_dict['model'])\n",
    "    if optimizer is not None:\n",
    "        optimizer.load_state_dict(checkpoint_dict['optimizer'])\n",
    "    return epoch"
   ]
  },
  {
   "cell_type": "code",
   "execution_count": 7,
   "id": "e47e1b68",
   "metadata": {},
   "outputs": [],
   "source": [
    "class parallel_all_you_want(nn.Module):\n",
    "    # Define all layers present in the network\n",
    "    def __init__(self,num_emotions):\n",
    "        super().__init__()\n",
    "\n",
    "        ################ TRANSFORMER BLOCK #############################\n",
    "        # maxpool the input feature map/tensor to the transformer\n",
    "        # a rectangular kernel worked better here for the rectangular input spectrogram feature map/tensor\n",
    "        self.transformer_maxpool = nn.MaxPool2d(kernel_size=[1,4], stride=[1,4])\n",
    "\n",
    "        # define single transformer encoder layer\n",
    "        # self-attention + feedforward network from \"Attention is All You Need\" paper\n",
    "        # 4 multi-head self-attention layers each with 40-->512--->40 feedforward network\n",
    "        transformer_layer = nn.TransformerEncoderLayer(\n",
    "            d_model=40, # input feature (frequency) dim after maxpooling 40*282 -> 40*70 (MFC*time)\n",
    "            nhead=4, # 4 self-attention layers in each multi-head self-attention layer in each encoder block\n",
    "            dim_feedforward=512, # 2 linear layers in each encoder block's feedforward network: dim 40-->512--->40\n",
    "            dropout=0.4,\n",
    "            activation='relu' # ReLU: avoid saturation/tame gradient/reduce compute time\n",
    "        )\n",
    "\n",
    "        # I'm using 4 instead of the 6 identical stacked encoder layrs used in Attention is All You Need paper\n",
    "        # Complete transformer block contains 4 full transformer encoder layers (each w/ multihead self-attention+feedforward)\n",
    "        self.transformer_encoder = nn.TransformerEncoder(transformer_layer, num_layers=4)\n",
    "\n",
    "        ############### 1ST PARALLEL 2D CONVOLUTION BLOCK ############\n",
    "        # 3 sequential conv2D layers: (1,40,282) --> (16, 20, 141) -> (32, 5, 35) -> (64, 1, 8)\n",
    "        self.conv2Dblock1 = nn.Sequential(\n",
    "\n",
    "            # 1st 2D convolution layer\n",
    "            nn.Conv2d(\n",
    "                in_channels=1, # input volume depth == input channel dim == 1\n",
    "                out_channels=16, # expand output feature map volume's depth to 16\n",
    "                kernel_size=3, # typical 3*3 stride 1 kernel\n",
    "                stride=1,\n",
    "                padding=1\n",
    "                      ),\n",
    "            nn.BatchNorm2d(16), # batch normalize the output feature map before activation\n",
    "            nn.ReLU(), # feature map --> activation map\n",
    "            nn.MaxPool2d(kernel_size=2, stride=2), #typical maxpool kernel size\n",
    "            nn.Dropout(p=0.3), #randomly zero 30% of 1st layer's output feature map in training\n",
    "\n",
    "            # 2nd 2D convolution layer identical to last except output dim, maxpool kernel\n",
    "            nn.Conv2d(\n",
    "                in_channels=16,\n",
    "                out_channels=32, # expand output feature map volume's depth to 32\n",
    "                kernel_size=3,\n",
    "                stride=1,\n",
    "                padding=1\n",
    "                      ),\n",
    "            nn.BatchNorm2d(32),\n",
    "            nn.ReLU(),\n",
    "            nn.MaxPool2d(kernel_size=4, stride=4), # increase maxpool kernel for subsequent filters\n",
    "            nn.Dropout(p=0.3),\n",
    "\n",
    "            # 3rd 2D convolution layer identical to last except output dim\n",
    "            nn.Conv2d(\n",
    "                in_channels=32,\n",
    "                out_channels=64, # expand output feature map volume's depth to 64\n",
    "                kernel_size=3,\n",
    "                stride=1,\n",
    "                padding=1\n",
    "                      ),\n",
    "            nn.BatchNorm2d(64),\n",
    "            nn.ReLU(),\n",
    "            nn.MaxPool2d(kernel_size=4, stride=4),\n",
    "            nn.Dropout(p=0.3),\n",
    "        )\n",
    "        ############### 2ND PARALLEL 2D CONVOLUTION BLOCK ############\n",
    "        # 3 sequential conv2D layers: (1,40,282) --> (16, 20, 141) -> (32, 5, 35) -> (64, 1, 8)\n",
    "        self.conv2Dblock2 = nn.Sequential(\n",
    "\n",
    "            # 1st 2D convolution layer\n",
    "            nn.Conv2d(\n",
    "                in_channels=1, # input volume depth == input channel dim == 1\n",
    "                out_channels=16, # expand output feature map volume's depth to 16\n",
    "                kernel_size=3, # typical 3*3 stride 1 kernel\n",
    "                stride=1,\n",
    "                padding=1\n",
    "                      ),\n",
    "            nn.BatchNorm2d(16), # batch normalize the output feature map before activation\n",
    "            nn.ReLU(), # feature map --> activation map\n",
    "            nn.MaxPool2d(kernel_size=2, stride=2), #typical maxpool kernel size\n",
    "            nn.Dropout(p=0.3), #randomly zero 30% of 1st layer's output feature map in training\n",
    "\n",
    "            # 2nd 2D convolution layer identical to last except output dim, maxpool kernel\n",
    "            nn.Conv2d(\n",
    "                in_channels=16,\n",
    "                out_channels=32, # expand output feature map volume's depth to 32\n",
    "                kernel_size=3,\n",
    "                stride=1,\n",
    "                padding=1\n",
    "                      ),\n",
    "            nn.BatchNorm2d(32),\n",
    "            nn.ReLU(),\n",
    "            nn.MaxPool2d(kernel_size=4, stride=4), # increase maxpool kernel for subsequent filters\n",
    "            nn.Dropout(p=0.3),\n",
    "\n",
    "            # 3rd 2D convolution layer identical to last except output dim\n",
    "            nn.Conv2d(\n",
    "                in_channels=32,\n",
    "                out_channels=64, # expand output feature map volume's depth to 64\n",
    "                kernel_size=3,\n",
    "                stride=1,\n",
    "                padding=1\n",
    "                      ),\n",
    "            nn.BatchNorm2d(64),\n",
    "            nn.ReLU(),\n",
    "            nn.MaxPool2d(kernel_size=4, stride=4),\n",
    "            nn.Dropout(p=0.3),\n",
    "            )\n",
    "\n",
    "        ################# FINAL LINEAR BLOCK ####################\n",
    "        # Linear softmax layer to take final concatenated embedding tensor\n",
    "        # from parallel 2D convolutional and transformer blocks, output 8 logits\n",
    "        # Each full convolution block outputs (64*1*8) embedding flattened to dim 512 1D array\n",
    "        # Full transformer block outputs 40*70 feature map, which we time-avg to dim 40 1D array\n",
    "        # 512*2+40 == 1064 input features --> 8 output emotions\n",
    "        self.fc1_linear = nn.Linear(512*2+40,num_emotions)\n",
    "\n",
    "        ### Softmax layer for the 8 output logits from final FC linear layer\n",
    "        self.softmax_out = nn.Softmax(dim=1) # dim==1 is the freq embedding\n",
    "\n",
    "    # define one complete parallel fwd pass of input feature tensor thru 2*conv+1*transformer blocks\n",
    "    def forward(self,x):\n",
    "\n",
    "                ############ 1st parallel Conv2D block: 4 Convolutional layers ############################\n",
    "                # create final feature embedding from 1st convolutional layer\n",
    "                # input features pased through 4 sequential 2D convolutional layers\n",
    "                conv2d_embedding1 = self.conv2Dblock1(x) # x == N/batch * channel * freq * time\n",
    "\n",
    "                # flatten final 64*1*8 feature map from convolutional layers to length 512 1D array\n",
    "                # skip the 1st (N/batch) dimension when flattening\n",
    "                conv2d_embedding1 = torch.flatten(conv2d_embedding1, start_dim=1)\n",
    "\n",
    "                ############ 2nd parallel Conv2D block: 4 Convolutional layers #############################\n",
    "                # create final feature embedding from 2nd convolutional layer\n",
    "                # input features pased through 4 sequential 2D convolutional layers\n",
    "                conv2d_embedding2 = self.conv2Dblock2(x) # x == N/batch * channel * freq * time\n",
    "\n",
    "                # flatten final 64*1*8 feature map from convolutional layers to length 512 1D array\n",
    "                # skip the 1st (N/batch) dimension when flattening\n",
    "                conv2d_embedding2 = torch.flatten(conv2d_embedding2, start_dim=1)\n",
    "\n",
    "\n",
    "                ########## 4-encoder-layer Transformer block w/ 40-->512-->40 feedfwd network ##############\n",
    "                # maxpool input feature map: 1*40*282 w/ 1*4 kernel --> 1*40*70\n",
    "                x_maxpool = self.transformer_maxpool(x)\n",
    "\n",
    "                # remove channel dim: 1*40*70 --> 40*70\n",
    "                x_maxpool_reduced = torch.squeeze(x_maxpool,1)\n",
    "\n",
    "                # convert maxpooled feature map format: batch * freq * time ---> time * batch * freq format\n",
    "                # because transformer encoder layer requires tensor in format: time * batch * embedding (freq)\n",
    "                x = x_maxpool_reduced.permute(2,0,1)\n",
    "\n",
    "                # finally, pass reduced input feature map x into transformer encoder layers\n",
    "                transformer_output = self.transformer_encoder(x)\n",
    "\n",
    "                # create final feature emedding from transformer layer by taking mean in the time dimension (now the 0th dim)\n",
    "                # transformer outputs 2x40 (MFCC embedding*time) feature map, take mean of columns i.e. take time average\n",
    "                transformer_embedding = torch.mean(transformer_output, dim=0) # dim 40x70 --> 40\n",
    "\n",
    "                ############# concatenate freq embeddings from convolutional and transformer blocks ######\n",
    "                # concatenate embedding tensors output by parallel 2*conv and 1*transformer blocks\n",
    "                complete_embedding = torch.cat([conv2d_embedding1, conv2d_embedding2,transformer_embedding], dim=1)\n",
    "\n",
    "                ######### final FC linear layer, need logits for loss #########################\n",
    "                output_logits = self.fc1_linear(complete_embedding)\n",
    "\n",
    "                ######### Final Softmax layer: use logits from FC linear, get softmax for prediction ######\n",
    "                output_softmax = self.softmax_out(output_logits)\n",
    "\n",
    "                # need output logits to compute cross entropy loss, need softmax probabilities to predict class\n",
    "                return output_logits, output_softmax"
   ]
  },
  {
   "cell_type": "code",
   "execution_count": 8,
   "id": "ee0eb25b",
   "metadata": {},
   "outputs": [],
   "source": [
    "def saved_model():\n",
    "        load_folder = r\"C:\\Users\\future\\Desktop\\prototype\"\n",
    "        device = 'cuda' if torch.cuda.is_available() else 'cpu'\n",
    "        #pick the epoch to load 256 64% -\n",
    "        epoch = '415'\n",
    "        model_name = f'parallel_all_you_wantFINAL-{epoch}.pkl'\n",
    "        load_path = os.path.join(load_folder, model_name)\n",
    "\n",
    "        ## instantiate empty model and populate with params from binary\n",
    "        model = parallel_all_you_want(num_emotions=8).to(device)\n",
    "        optimizer = torch.optim.SGD(model.parameters(),lr=0.01, weight_decay=1e-3, momentum=0.8)\n",
    "        print('Number of trainable params: ',sum(p.numel() for p in model.parameters()) )\n",
    "        load_checkpoint(optimizer, model, load_path)\n",
    "        return model"
   ]
  },
  {
   "cell_type": "code",
   "execution_count": 9,
   "id": "1bad0754",
   "metadata": {},
   "outputs": [],
   "source": [
    "def load_data(test_Files):\n",
    "    # raw waveforms to augment later\n",
    "    waveforms = []\n",
    "    for file in glob.glob(test_Files):\n",
    "              waveform = get_waveforms(file)\n",
    "              waveforms.append(waveform)\n",
    "\n",
    "    return waveforms\n"
   ]
  },
  {
   "cell_type": "code",
   "execution_count": 10,
   "id": "9d960e0e",
   "metadata": {},
   "outputs": [],
   "source": [
    "def feature_mfcc(\n",
    "    waveform,\n",
    "    sample_rate,\n",
    "    n_mfcc = 40,\n",
    "    fft = 1024,\n",
    "    winlen = 512,\n",
    "    window='hamming',\n",
    "    #hop=256, # increases # of time steps; was not helpful\n",
    "    mels=128\n",
    "    ):\n",
    "\n",
    "    # Compute the MFCCs for all STFT frames\n",
    "    # 40 mel filterbanks (n_mfcc) = 40 coefficients\n",
    "    mfc_coefficients=librosa.feature.mfcc(\n",
    "        y=waveform,\n",
    "        sr=sample_rate,\n",
    "        n_mfcc=n_mfcc,\n",
    "        n_fft=fft,\n",
    "        win_length=winlen,\n",
    "        window=window,\n",
    "        #hop_length=hop,\n",
    "        n_mels=mels,\n",
    "        fmax=sample_rate/2\n",
    "        )\n",
    "\n",
    "    return mfc_coefficients"
   ]
  },
  {
   "cell_type": "code",
   "execution_count": 11,
   "id": "df099652",
   "metadata": {},
   "outputs": [],
   "source": [
    "def get_waveforms(file):\n",
    "    sample_rate = 48000\n",
    "\n",
    "    # load an individual sample audio file\n",
    "    # read the full 3 seconds of the file, cut off the first 0.5s of silence; native sample rate = 48k\n",
    "    # don't need to store the sample rate that librosa.load returns\n",
    "    waveform, _ = librosa.load(file, duration=3, sr=sample_rate)\n",
    "\n",
    "    # make sure waveform vectors are homogenous by defining explicitly\n",
    "    waveform_homo = np.zeros((int(sample_rate*3,)))\n",
    "    waveform_homo[:len(waveform)] = waveform\n",
    "\n",
    "    # return a single file's waveform\n",
    "    return waveform_homo"
   ]
  },
  {
   "cell_type": "code",
   "execution_count": 12,
   "id": "f49ecd92",
   "metadata": {},
   "outputs": [],
   "source": [
    "def get_features(waveforms, features, sample_rate):\n",
    "\n",
    "    # initialize counter to track progress\n",
    "    file_count = 0\n",
    "\n",
    "    # process each waveform individually to get its MFCCs\n",
    "    for waveform in waveforms:\n",
    "        mfccs = feature_mfcc(waveform, sample_rate)\n",
    "        features.append(mfccs)\n",
    "        file_count += 1\n",
    "        # print progress\n",
    "        print('\\r'+f' Processed {file_count}/{len(waveforms)} waveforms',end='')\n",
    "\n",
    "    # return all features from list of waveforms\n",
    "    return features"
   ]
  },
  {
   "cell_type": "code",
   "execution_count": 13,
   "id": "58e7b0ec",
   "metadata": {},
   "outputs": [],
   "source": [
    "def final_test(file_test):\n",
    "    \n",
    "    waveforms= load_data(file_test)\n",
    "\n",
    "    sample_rate = 48000\n",
    "\n",
    "  # mfcc features\n",
    "    features=[]\n",
    "    features_t = get_features(waveforms,features, sample_rate)\n",
    "\n",
    "    sample_test = np.expand_dims(features,1)\n",
    "\n",
    "    N,C,H,W = sample_test.shape\n",
    "\n",
    "    # load scaler\n",
    "\n",
    "    path = r\"C:\\Users\\future\\Desktop\\prototype\\GP_Model\\scaler_folder\"\n",
    "    os.chdir(path)\n",
    "    cwd = os.getcwd()\n",
    "    with open(r\"C:\\Users\\future\\Desktop\\prototype\\GP_Model\\scaler_folder\\scaler.pkl\",'rb') as f:\n",
    "        scaler = pickle.load(f)\n",
    "    # should save scaler and then load it here to use\n",
    "    sample_test= np.reshape(sample_test, (N,-1))\n",
    "    sample_test= scaler.transform(sample_test)\n",
    "    sample_test = np.reshape(sample_test, (N,C,H,W))\n",
    "\n",
    "    def criterion(predictions, targets):\n",
    "        return nn.CrossEntropyLoss()(input=predictions, target=targets)\n",
    "    model = saved_model()\n",
    "    validate_t = make_test(model,criterion)\n",
    "\n",
    "    device = 'cuda' if torch.cuda.is_available() else 'cpu'\n",
    "\n",
    "    sample_test= torch.tensor(sample_test,device=device).float()\n",
    "\n",
    "    predicted_emotion = validate_t(sample_test)\n",
    "    # print(predicted_emotion)\n",
    "\n",
    "    emotions_dict ={\n",
    "      '0':'surprised',\n",
    "      '1':'neutral',\n",
    "      '2':'calm',\n",
    "      '3':'happy',\n",
    "      '4':'sad',\n",
    "      '5':'angry',\n",
    "      '6':'fearful',\n",
    "      '7':'disgust'\n",
    "    }\n",
    "    \n",
    "    emotions=[]\n",
    "    for i in range(len(predicted_emotion)):\n",
    "        e = predicted_emotion[i].item()\n",
    "        # this the emotion detected from the audio\n",
    "        emotion=emotions_dict[str(e)]\n",
    "        emotions.append(emotion)\n",
    "        print(\" predicted emotion for segment \",i,\": \",emotions[i])\n",
    "  # # here we will delete this code because the gender will enter from the user in register\n",
    "  # if (int((file_test.split(\"-\")[6]).split(\".\")[0]))%2==0:\n",
    "  #     gender = 'girl'\n",
    "  # else:\n",
    "  #     gender = 'boy'\n",
    "    return emotions"
   ]
  },
  {
   "cell_type": "code",
   "execution_count": 14,
   "id": "9e1d0b34",
   "metadata": {},
   "outputs": [],
   "source": [
    "def audio_read(audio_path):\n",
    "    #cp $audio_path .\n",
    "    original_audio = os.path.basename(audio_path)\n",
    "    #ipd.display(ipd.Audio(original_audio))\n",
    "    return original_audio"
   ]
  },
  {
   "cell_type": "code",
   "execution_count": 15,
   "id": "8a44b424",
   "metadata": {},
   "outputs": [],
   "source": [
    "def read_audio(audio_path):\n",
    "    audio = AudioSegment.from_file(audio_path)\n",
    "    audio = audio.set_channels(1)\n",
    "    return audio\n",
    "\n",
    "def split_on_silence_with_pydub(path_audio,skip_idx=0, out_ext=\"wav\",\n",
    "        silence_thresh=-51, silence_chunk_len=300, keep_silence=300):\n",
    "\n",
    "    audio_path=audio_read(path_audio)\n",
    "    print(os.getcwd())\n",
    "    filename = os.path.basename(audio_path).split('.', 1)[0]\n",
    "    audio = read_audio(audio_path)\n",
    "\n",
    "    not_silence_ranges = silence.detect_nonsilent(\n",
    "        audio, min_silence_len=silence_chunk_len,\n",
    "        silence_thresh=silence_thresh)\n",
    "    # Save audio files\n",
    "    audio_paths = []\n",
    "    \n",
    "    temp_path = r\"C:\\Users\\future\\Desktop\\prototype\\avatars_audio\\segmentation\"\n",
    "    os.chdir(temp_path)\n",
    "    cwd = os.getcwd()\n",
    "\n",
    "    for idx, (start_idx, end_idx) in enumerate(not_silence_ranges[skip_idx:]):\n",
    "        start_idx = max(0, start_idx - keep_silence)\n",
    "        end_idx += keep_silence\n",
    "        target_audio_path = r\"C:\\Users\\future\\Desktop\\prototype\\avatars_audio\\segmentation\\{}\\{}.{:04d}.{}\".format(os.path.dirname(audio_path), filename, idx, out_ext)\n",
    "        segment = audio[start_idx:end_idx]\n",
    "        segment.export(target_audio_path, out_ext)\n",
    "        audio_paths.append(target_audio_path)\n",
    "\n",
    "\n",
    "    return audio_paths,not_silence_ranges"
   ]
  },
  {
   "cell_type": "code",
   "execution_count": 16,
   "id": "6a5d77ad",
   "metadata": {},
   "outputs": [],
   "source": [
    "def path_emotions(audio_path,gender):\n",
    "        audio_list,intervals = split_on_silence_with_pydub(audio_path)\n",
    "        temp_path = r\"C:\\Users\\future\\Desktop\\prototype\\avatars_audio\\segmentation\"\n",
    "        os.chdir(temp_path)\n",
    "        cwd = os.getcwd()\n",
    "        path=r\"C:\\Users\\future\\Desktop\\prototype\\avatars_audio\\segmentation\\*.wav\"\n",
    "        emotions=final_test(path)\n",
    "        print(emotions)\n",
    "        return emotions"
   ]
  },
  {
   "cell_type": "code",
   "execution_count": 17,
   "id": "5869ffd5",
   "metadata": {},
   "outputs": [],
   "source": [
    "def extract_features(data, sample_rate):\n",
    "    mfcc = librosa.feature.mfcc(y=data, sr=sample_rate, n_mfcc=NUM_MFCC, n_fft=N_FFT, hop_length=HOP_LENGTH)\n",
    "    feature = mfcc.T\n",
    "    return feature"
   ]
  },
  {
   "cell_type": "code",
   "execution_count": 18,
   "id": "9138f678",
   "metadata": {},
   "outputs": [],
   "source": [
    "from pydub import AudioSegment, effects\n",
    "import noisereduce as nr\n",
    "from json_tricks import load\n",
    "\n",
    "def preprocess(file_path, SAMPLE_RATE = 48000, frame_length = 2048, N_FFT = 2048, hop_length = 512):\n",
    "\n",
    "     # Fetch sample rate.\n",
    "    _, sr = librosa.load(path = file_path, sr = None)\n",
    "    # Load audio file\n",
    "    rawsound = AudioSegment.from_file(file_path, duration = None)\n",
    "    # Normalize to 5 dBFS\n",
    "    normalizedsound = effects.normalize(rawsound, headroom = 5.0)\n",
    "    # Transform the audio file to np.array of samples\n",
    "    normal_x = np.array(normalizedsound.get_array_of_samples(), dtype = 'float32')\n",
    "    # Noise reduction\n",
    "    final_x = nr.reduce_noise(normal_x, sr=sr)\n",
    "    # extract features\n",
    "    f3 = extract_features(final_x,sr) # MFCC\n",
    "\n",
    "    return f3"
   ]
  },
  {
   "cell_type": "code",
   "execution_count": 19,
   "id": "45ad8869",
   "metadata": {},
   "outputs": [],
   "source": [
    "import pyaudio\n",
    "import wave\n",
    "from array import array\n",
    "import struct\n",
    "import time\n",
    "import os\n",
    "import glob\n",
    "\n",
    "# to record audio using realtime\n",
    "\n",
    "def recordAudio():\n",
    "        RATE = 48000\n",
    "        CHUNK = 40960\n",
    "        RECORD_SECONDS = 10\n",
    "\n",
    "        FORMAT = pyaudio.paInt32\n",
    "        CHANNELS = 1\n",
    "        WAVE_OUTPUT_FILE = r\"C:\\Users\\future\\Desktop\\prototype\\outputtt.wav\"\n",
    "\n",
    "        # Open an input channel\n",
    "        p = pyaudio.PyAudio()\n",
    "        stream = p.open(format=FORMAT,\n",
    "                  channels=CHANNELS,\n",
    "                  rate=RATE,\n",
    "                  input=True,\n",
    "                  frames_per_buffer=CHUNK)\n",
    "\n",
    "        chunk = 512  # Record in chunks of 1024 samples\n",
    "        chunk_counter = 0\n",
    "        sample_format = pyaudio.paInt16  # 16 bits per sample\n",
    "        channels = 1\n",
    "        fs = 48000 #16000  # Record at 44100 samples per second //as per ravdess dataset the frequecy is 48kHz\n",
    "        seconds = 10\n",
    "        filename = \"audio_chunk\"\n",
    "        audio_path = r\"C:/Users/future/Desktop/prototype/Realtime/*.wav\"\n",
    "\n",
    "        p = pyaudio.PyAudio()  # Create an interface to PortAudio\n",
    "\n",
    "        print('Recording')\n",
    "\n",
    "        stream = p.open(format=sample_format,\n",
    "                    channels=channels,\n",
    "                    rate=fs,\n",
    "                    frames_per_buffer=chunk,\n",
    "                    input=True)\n",
    "\n",
    "        frames = []  # Initialize array to store frames\n",
    "\n",
    "        # Store data in chunks for 10 seconds\n",
    "        for i in range(0, int(fs / chunk * seconds)):\n",
    "            data = stream.read(chunk)\n",
    "            frames.append(data)\n",
    "\n",
    "        # Stop and close the stream\n",
    "        stream.stop_stream()\n",
    "        stream.close()\n",
    "        # Terminate the PortAudio interface\n",
    "        p.terminate()\n",
    "\n",
    "        print('Finished recording')\n",
    "\n",
    "       # Save the recorded data as a WAV file\n",
    "        wf = wave.open(f\"{filename}_{chunk_counter}.wav\", 'wb')\n",
    "        wf.setnchannels(channels)\n",
    "        wf.setsampwidth(p.get_sample_size(sample_format))\n",
    "        wf.setframerate(fs)\n",
    "        wf.writeframes(b''.join(frames))\n",
    "        wf.close()"
   ]
  },
  {
   "cell_type": "code",
   "execution_count": 20,
   "id": "330dfb26",
   "metadata": {},
   "outputs": [],
   "source": [
    "audio_path=r\"C:\\Users\\future\\Desktop\\prototype\\Realtime\"\n",
    "os.chdir(audio_path)\n",
    "cwd = os.getcwd()"
   ]
  },
  {
   "cell_type": "code",
   "execution_count": 21,
   "id": "34634926",
   "metadata": {},
   "outputs": [],
   "source": [
    "def avatar(EB,E,M,TYPE,personality):\n",
    "    if personality == \"boy\":\n",
    "        C = pa.ClothingType.BLAZER_SHIRT\n",
    "        T = pa.HairType.SHORT_ROUND\n",
    "    else:\n",
    "        C= pa.ClothingType.GLADIATOR\n",
    "        T= pa.HairType.LOOSE_HAIR\n",
    "\n",
    "    my_avatar = pa.Avatar(\n",
    "          style=pa.AvatarStyle.CIRCLE,\n",
    "          background_color=pa.BackgroundColor.BLACK,\n",
    "          top=T,\n",
    "          eyebrows=EB,\n",
    "          eyes=E,\n",
    "          nose=pa.NoseType.DEFAULT,\n",
    "          mouth=M,\n",
    "          facial_hair=pa.FacialHairType.NONE,\n",
    "          skin_color=\"#FFDAB9\",\n",
    "          hair_color=pa.HairColor.BLACK,\n",
    "          accessory=pa.AccessoryType.NONE,\n",
    "          clothing=C,\n",
    "          clothing_color=pa.ClothingColor\n",
    "      )\n",
    "\n",
    "    temp_path = r\"C:\\Users\\future\\Desktop\\prototype\\avatars\"\n",
    "    os.chdir(temp_path)\n",
    "    cwd = os.getcwd()\n",
    "    # Save to a file\n",
    "    my_avatar.render(r\"C:\\Users\\future\\Desktop\\prototype\\avatars\\\\\"+TYPE+\"_\"+personality+\".svg\")\n",
    "    example_url =r\"C:\\Users\\future\\Desktop\\prototype\\avatars\\\\\"+TYPE+'_'+personality+'.svg'\n",
    "    path=r\"C:\\Users\\future\\Desktop\\prototype\\avatars\\\\\"+TYPE+'_'+personality+'.png'\n",
    "    s = cairosvg.svg2png(url=example_url,write_to=path)"
   ]
  },
  {
   "cell_type": "code",
   "execution_count": 22,
   "id": "e01e2b68",
   "metadata": {},
   "outputs": [],
   "source": [
    "## disgust\n",
    "def disgust(type):\n",
    "    avatar(pa.EyebrowType.DEFAULT_NATURAL,pa.EyeType.SIDE,pa.MouthType.CONCERNED,\"disgust\",type)\n",
    "    avatar(pa.EyebrowType.DEFAULT_NATURAL,pa.EyeType.SIDE,pa.MouthType.SERIOUS,\"natural_d\",type)"
   ]
  },
  {
   "cell_type": "code",
   "execution_count": 23,
   "id": "4a3e61a3",
   "metadata": {},
   "outputs": [],
   "source": [
    "## surprise\n",
    "def surprised(type):\n",
    "    avatar(pa.EyebrowType.DEFAULT_NATURAL,pa.EyeType.SURPRISED,pa.MouthType.DISBELIEF,\"surprised\",type)\n",
    "    avatar(pa.EyebrowType.DEFAULT_NATURAL,pa.EyeType.SURPRISED,pa.MouthType.SERIOUS,\"natural_sur\",type)"
   ]
  },
  {
   "cell_type": "code",
   "execution_count": 24,
   "id": "8020a3cb",
   "metadata": {},
   "outputs": [],
   "source": [
    "## fearful\n",
    "def fearful(type):\n",
    "    avatar(pa.EyebrowType.DEFAULT_NATURAL,pa.EyeType.SQUINT,pa.MouthType.SCREAM_OPEN,\"fearful\",type)\n",
    "    avatar(pa.EyebrowType.DEFAULT_NATURAL,pa.EyeType.SQUINT,pa.MouthType.SERIOUS,\"natural_f\",type)"
   ]
  },
  {
   "cell_type": "code",
   "execution_count": 25,
   "id": "a8bc797f",
   "metadata": {},
   "outputs": [],
   "source": [
    "## angry\n",
    "def angry(type):\n",
    "    avatar(pa.EyebrowType.ANGRY,pa.EyeType.SQUINT,pa.MouthType.GRIMACE,\"angry\",type)\n",
    "    avatar(pa.EyebrowType.ANGRY,pa.EyeType.SQUINT,pa.MouthType.SERIOUS,\"natural_a\",type)"
   ]
  },
  {
   "cell_type": "code",
   "execution_count": 26,
   "id": "10a5f129",
   "metadata": {},
   "outputs": [],
   "source": [
    "## calm\n",
    "def calm(type):\n",
    "    avatar(pa.EyebrowType.DEFAULT_NATURAL,pa.EyeType.CLOSED,pa.MouthType.TWINKLE,\"calm\",type)\n",
    "    avatar(pa.EyebrowType.DEFAULT_NATURAL,pa.EyeType.CLOSED,pa.MouthType.SERIOUS,\"natural_c\",type)"
   ]
  },
  {
   "cell_type": "code",
   "execution_count": 27,
   "id": "708aa2a6",
   "metadata": {},
   "outputs": [],
   "source": [
    "## happy\n",
    "def happy(type):\n",
    "    avatar(pa.EyebrowType.DEFAULT_NATURAL,pa.EyeType.HAPPY,pa.MouthType.SMILE,\"happy\",type)\n",
    "    avatar(pa.EyebrowType.DEFAULT_NATURAL,pa.EyeType.HAPPY,pa.MouthType.SERIOUS,\"natural_h\",type)"
   ]
  },
  {
   "cell_type": "code",
   "execution_count": 28,
   "id": "a186319c",
   "metadata": {},
   "outputs": [],
   "source": [
    "## sad\n",
    "def sad(type):\n",
    "    avatar(pa.EyebrowType.SAD_CONCERNED_NATURAL,pa.EyeType.CRY,pa.MouthType.SAD,\"sad\",type)\n",
    "    avatar(pa.EyebrowType.SAD_CONCERNED_NATURAL,pa.EyeType.CRY,pa.MouthType.SERIOUS,\"natural_s\",type)"
   ]
  },
  {
   "cell_type": "code",
   "execution_count": 29,
   "id": "d7877c04",
   "metadata": {},
   "outputs": [],
   "source": [
    "###UPDATED\n",
    "## neutral\n",
    "def neutral(type):\n",
    "    avatar(pa.EyebrowType.DEFAULT_NATURAL,pa.EYeType.DEFAULT,pa.MouthType.TWINKLE,\"neutral\",type)\n",
    "    avatar(pa.EyebrowType.DEFAULT_NATURAL,pa.EYeType.DEFAULT,MouthType.SERIOUS,\"natural_n\",type)"
   ]
  },
  {
   "cell_type": "code",
   "execution_count": 30,
   "id": "cdf391f0",
   "metadata": {},
   "outputs": [],
   "source": [
    "### Updated\n",
    "def choice(emotion,type):\n",
    "        N=\" \"\n",
    "        if emotion==\"disgust\":\n",
    "            disgust(type)\n",
    "            N=\"d\"\n",
    "        elif emotion==\"surprised\":\n",
    "            surprised(type)\n",
    "            N=\"sur\"\n",
    "        elif emotion==\"fearful\":\n",
    "            fearful(type)\n",
    "            N=\"f\"\n",
    "        elif emotion==\"angry\":\n",
    "            angry(type)\n",
    "            N=\"a\"\n",
    "        elif emotion==\"calm\":\n",
    "            calm(type)\n",
    "            N=\"c\"\n",
    "        elif emotion==\"happy\":\n",
    "            happy(type)\n",
    "            N=\"h\"\n",
    "        elif emotion==\"sad\":\n",
    "            sad(type)\n",
    "            N=\"s\"\n",
    "        elif emotion==\"neutral\":\n",
    "            neutral(type)\n",
    "            N=\"n\"\n",
    "        return N"
   ]
  },
  {
   "cell_type": "code",
   "execution_count": 31,
   "id": "20f2546e",
   "metadata": {},
   "outputs": [],
   "source": [
    "#type=\"boy\"\n",
    "#emotion=\"happy\"\n",
    "def show(emotion,type):\n",
    "    N=choice(emotion,type)\n",
    "    path = r\"C:\\Users\\future\\Desktop\\prototype\\avatars\"\n",
    "    os.chdir(path)\n",
    "    cwd = os.getcwd()\n",
    "    path1=r\"C:\\Users\\future\\Desktop\\prototype\\avatars\\\\\"+emotion+\"_\"+type+\".png\"\n",
    "    # im=image.imread(path1)\n",
    "    # plt.imshow(im)\n",
    "    # plt.axis(\"off\")\n",
    "    # plt.show(block=False)\n",
    "    # plt.close()\n",
    "    # time.sleep(1)\n",
    "    path = r\"C:\\Users\\future\\Desktop\\prototype\\avatars\"\n",
    "    os.chdir(path)\n",
    "    cwd = os.getcwd()\n",
    "    path2=r\"C:\\Users\\future\\Desktop\\prototype\\avatars\\natural_\"+N+'_'+type+\".png\"\n",
    "    # im=image.imread(path2)\n",
    "    # plt.imshow(im)\n",
    "    # plt.axis(\"off\")\n",
    "    # plt.show()\n",
    "    return path1,path2"
   ]
  },
  {
   "cell_type": "code",
   "execution_count": 32,
   "id": "8ac0e371",
   "metadata": {},
   "outputs": [],
   "source": [
    "def show_avatar(file_test,emotion,gender,saved_file):\n",
    "    path1,path2=show(emotion,gender)\n",
    "    images = []\n",
    "    # here will take the input audio\n",
    "    audio_clip = AudioFileClip(file_test)\n",
    "    a=audio_clip.duration\n",
    "    print(a)\n",
    "    # here take paths of the emojies\n",
    "    for filename in range(int(a*2)):\n",
    "        images.append(imageio.imread(path1))\n",
    "        images.append(imageio.imread(path2))\n",
    "    # Create the output video file\n",
    "    # here will take the path to save on it the video\n",
    "    imageio.imwrite(saved_file, images, fps=5)\n",
    "    video_clip = VideoFileClip(saved_file)\n",
    "    final_clip = video_clip.set_audio(audio_clip)\n",
    "    # Export the final video with audio\n",
    "    final_clip.write_videofile(saved_file)"
   ]
  },
  {
   "cell_type": "code",
   "execution_count": 33,
   "id": "e49c88c5",
   "metadata": {},
   "outputs": [],
   "source": [
    "def recorded_final_video(gender,audio_path):\n",
    "    emotions=path_emotions(audio_path,gender)\n",
    "    folder=r\"C:\\Users\\future\\Desktop\\prototype\\avatars_audio\\segmentation\"\n",
    "    os.chdir(folder)\n",
    "    cwd = os.getcwd()\n",
    "    all_saved_files=[]\n",
    "    for i in range(len(emotions)):\n",
    "        num_audio='{:04d}'.format(i)\n",
    "        file_name=os.path.splitext(os.path.basename(audio_path))[0]\n",
    "        model_name = file_name+f'.{num_audio}.wav'\n",
    "        temp_path = r\"C:\\Users\\future\\Desktop\\prototype\\avatars_audio\\small_audios\"\n",
    "        os.chdir(temp_path)\n",
    "        cwd = os.getcwd()\n",
    "        saved_file=r\"C:\\Users\\future\\Desktop\\prototype\\avatars_audio\\small_audios\\output{:04d}.mp4\".format(i)\n",
    "        all_saved_files.append(saved_file)\n",
    "        load_path = os.path.join(folder, model_name)\n",
    "        show_avatar(load_path,emotions[i],gender,saved_file)\n",
    "    video_clips=[VideoFileClip(path)for path in all_saved_files]\n",
    "    conactenated_clips=concatenate_videoclips(video_clips,method=\"compose\")\n",
    "    path = r\"C:\\Users\\future\\Desktop\\prototype\\avatars_audio\"\n",
    "    os.chdir(path)\n",
    "    cwd = os.getcwd()\n",
    "    output_path=r\"C:\\Users\\future\\Desktop\\prototype\\avatars_audio\\last_video.mp4\"\n",
    "    conactenated_clips.write_videofile(output_path)\n"
   ]
  },
  {
   "cell_type": "code",
   "execution_count": 34,
   "id": "8ff78d91",
   "metadata": {},
   "outputs": [],
   "source": [
    "def realtime_final_video(gender,audio_path):\n",
    "    emotions=path_emotions(audio_path,gender)\n",
    "    folder=r\"C:\\Users\\future\\Desktop\\prototype\\avatars_audio\\segmentation\"\n",
    "    os.chdir(folder)\n",
    "    cwd = os.getcwd()\n",
    "    all_saved_files=[]\n",
    "    for i in range(len(emotions)):\n",
    "        num_audio='{:04d}'.format(i)\n",
    "        file_name=os.path.splitext(os.path.basename(audio_path))[0]\n",
    "        model_name = file_name+f'.{num_audio}.wav'\n",
    "        temp_path = r\"C:\\Users\\future\\Desktop\\prototype\\avatars_audio\\small_audios\"\n",
    "        os.chdir(temp_path)\n",
    "        cwd = os.getcwd()\n",
    "        saved_file=r\"C:\\Users\\future\\Desktop\\prototype\\avatars_audio\\small_audios\\output{:04d}.mp4\".format(i)\n",
    "        all_saved_files.append(saved_file)\n",
    "        load_path = os.path.join(folder, model_name)\n",
    "        show_avatar(load_path,emotions[i],gender,saved_file)\n",
    "    video_clips=[VideoFileClip(path)for path in all_saved_files]\n",
    "    conactenated_clips=concatenate_videoclips(video_clips,method=\"compose\")\n",
    "    #path = r\"C:\\Users\\future\\Desktop\\prototype\\Realtime\"\n",
    "    #os.chdir(path)\n",
    "    output_path=r\"C:\\Users\\future\\Desktop\\prototype\\videos\\last_video.mp4\"\n",
    "    conactenated_clips.write_videofile(output_path)\n"
   ]
  },
  {
   "cell_type": "code",
   "execution_count": 35,
   "id": "de71592d",
   "metadata": {},
   "outputs": [],
   "source": [
    "def realTime(audio_path,gender):\n",
    "    try:\n",
    "        while True:\n",
    "            recordAudio()\n",
    "            # wait until audio is saved\n",
    "            time.sleep(2.5)\n",
    "            # generating video for the recorded audio\n",
    "            realtime_final_video(gender,audio_path)\n",
    "            # delete the old audio before saving the new one\n",
    "            files = glob.glob('/Realtime/*')\n",
    "            for f in files:\n",
    "                os.remove(f)\n",
    "    # Cation: interupt it manaually as the except is not working and your cpu will be burnt out (:\n",
    "    except KeyboardInterrupt:\n",
    "            print(\"Recording stopped.\")\n",
    "            # generating video for the last recorded audio\n",
    "            realtime_final_video(gender,audio_path)\n",
    "            # delete the last generated video\n",
    "            files = glob.glob('/videos/*')\n",
    "            for f in files:\n",
    "                os.remove(f)"
   ]
  },
  {
   "cell_type": "code",
   "execution_count": 36,
   "id": "8f9a2d63",
   "metadata": {},
   "outputs": [],
   "source": [
    "audio_path=r\"C:\\Users\\future\\Desktop\\prototype\\avatars_audio\"\n",
    "os.chdir(audio_path)\n",
    "cwd = os.getcwd()"
   ]
  },
  {
   "cell_type": "code",
   "execution_count": 37,
   "id": "c6032cb2",
   "metadata": {},
   "outputs": [
    {
     "name": "stdout",
     "output_type": "stream",
     "text": [
      "Requirement already satisfied: moviepy in c:\\users\\future\\.conda\\envs\\gp\\lib\\site-packages (1.0.3)\n",
      "Requirement already satisfied: decorator<5.0,>=4.0.2 in c:\\users\\future\\.conda\\envs\\gp\\lib\\site-packages (from moviepy) (4.4.2)\n",
      "Requirement already satisfied: tqdm<5.0,>=4.11.2 in c:\\users\\future\\.conda\\envs\\gp\\lib\\site-packages (from moviepy) (4.66.2)\n",
      "Requirement already satisfied: requests<3.0,>=2.8.1 in c:\\users\\future\\.conda\\envs\\gp\\lib\\site-packages (from moviepy) (2.31.0)\n",
      "Requirement already satisfied: proglog<=1.0.0 in c:\\users\\future\\.conda\\envs\\gp\\lib\\site-packages (from moviepy) (0.1.10)\n",
      "Requirement already satisfied: numpy>=1.17.3 in c:\\users\\future\\.conda\\envs\\gp\\lib\\site-packages (from moviepy) (1.21.6)\n",
      "Requirement already satisfied: imageio<3.0,>=2.5 in c:\\users\\future\\.conda\\envs\\gp\\lib\\site-packages (from moviepy) (2.31.2)\n",
      "Requirement already satisfied: imageio-ffmpeg>=0.2.0 in c:\\users\\future\\.conda\\envs\\gp\\lib\\site-packages (from moviepy) (0.4.9)\n",
      "Requirement already satisfied: pillow>=8.3.2 in c:\\users\\future\\.conda\\envs\\gp\\lib\\site-packages (from imageio<3.0,>=2.5->moviepy) (9.5.0)\n",
      "Requirement already satisfied: setuptools in c:\\users\\future\\.conda\\envs\\gp\\lib\\site-packages (from imageio-ffmpeg>=0.2.0->moviepy) (65.6.3)\n",
      "Requirement already satisfied: charset-normalizer<4,>=2 in c:\\users\\future\\.conda\\envs\\gp\\lib\\site-packages (from requests<3.0,>=2.8.1->moviepy) (2.0.4)\n",
      "Requirement already satisfied: idna<4,>=2.5 in c:\\users\\future\\.conda\\envs\\gp\\lib\\site-packages (from requests<3.0,>=2.8.1->moviepy) (3.4)\n",
      "Requirement already satisfied: urllib3<3,>=1.21.1 in c:\\users\\future\\.conda\\envs\\gp\\lib\\site-packages (from requests<3.0,>=2.8.1->moviepy) (2.0.7)\n",
      "Requirement already satisfied: certifi>=2017.4.17 in c:\\users\\future\\.conda\\envs\\gp\\lib\\site-packages (from requests<3.0,>=2.8.1->moviepy) (2020.6.20)\n",
      "Requirement already satisfied: colorama in c:\\users\\future\\.conda\\envs\\gp\\lib\\site-packages (from tqdm<5.0,>=4.11.2->moviepy) (0.4.6)\n"
     ]
    }
   ],
   "source": [
    "!pip install moviepy --upgrade"
   ]
  },
  {
   "cell_type": "code",
   "execution_count": 38,
   "id": "be11dbac",
   "metadata": {},
   "outputs": [
    {
     "name": "stdout",
     "output_type": "stream",
     "text": [
      "Requirement already satisfied: ffmpeg in c:\\users\\future\\.conda\\envs\\gp\\lib\\site-packages (1.4)\n"
     ]
    }
   ],
   "source": [
    "!pip install ffmpeg --upgrade"
   ]
  },
  {
   "cell_type": "code",
   "execution_count": 39,
   "id": "a1d2f0d8",
   "metadata": {},
   "outputs": [
    {
     "name": "stdout",
     "output_type": "stream",
     "text": [
      "Collecting decorator\n",
      "  Using cached decorator-5.1.1-py3-none-any.whl.metadata (4.0 kB)\n",
      "Using cached decorator-5.1.1-py3-none-any.whl (9.1 kB)\n",
      "Installing collected packages: decorator\n",
      "  Attempting uninstall: decorator\n",
      "    Found existing installation: decorator 4.4.2\n",
      "    Uninstalling decorator-4.4.2:\n",
      "      Successfully uninstalled decorator-4.4.2\n",
      "Successfully installed decorator-5.1.1\n"
     ]
    },
    {
     "name": "stderr",
     "output_type": "stream",
     "text": [
      "ERROR: pip's dependency resolver does not currently take into account all the packages that are installed. This behaviour is the source of the following dependency conflicts.\n",
      "moviepy 1.0.3 requires decorator<5.0,>=4.0.2, but you have decorator 5.1.1 which is incompatible.\n"
     ]
    }
   ],
   "source": [
    "!pip install decorator --upgrade --force-reinstall"
   ]
  },
  {
   "cell_type": "code",
   "execution_count": 40,
   "id": "d6cfa50c",
   "metadata": {},
   "outputs": [
    {
     "name": "stdout",
     "output_type": "stream",
     "text": [
      "Collecting decorator==4.4.2\n",
      "  Using cached decorator-4.4.2-py2.py3-none-any.whl.metadata (4.2 kB)\n",
      "Using cached decorator-4.4.2-py2.py3-none-any.whl (9.2 kB)\n",
      "Installing collected packages: decorator\n",
      "  Attempting uninstall: decorator\n",
      "    Found existing installation: decorator 5.1.1\n",
      "    Uninstalling decorator-5.1.1:\n",
      "      Successfully uninstalled decorator-5.1.1\n",
      "Successfully installed decorator-4.4.2\n"
     ]
    }
   ],
   "source": [
    "!pip install --upgrade decorator==4.4.2"
   ]
  },
  {
   "cell_type": "code",
   "execution_count": 41,
   "id": "04029a53",
   "metadata": {},
   "outputs": [
    {
     "name": "stdout",
     "output_type": "stream",
     "text": [
      "Requirement already satisfied: ffmpeg in c:\\users\\future\\.conda\\envs\\gp\\lib\\site-packages (1.4)\n"
     ]
    }
   ],
   "source": [
    "!pip install ffmpeg --upgrade"
   ]
  },
  {
   "cell_type": "code",
   "execution_count": 42,
   "id": "f6061ab0",
   "metadata": {},
   "outputs": [],
   "source": [
    "audio_path=r\"C:\\Users\\future\\Desktop\\prototype\\Realtime\"\n",
    "os.chdir(audio_path)\n",
    "cwd = os.getcwd()"
   ]
  },
  {
   "cell_type": "code",
   "execution_count": 43,
   "id": "6e2bc5cc",
   "metadata": {},
   "outputs": [
    {
     "name": "stdout",
     "output_type": "stream",
     "text": [
      "Recording\n",
      "Finished recording\n",
      "C:\\Users\\future\\Desktop\\prototype\\Realtime\n",
      " Processed 10/10 waveformsNumber of trainable params:  248488\n",
      " predicted emotion for segment  0 :  calm\n",
      " predicted emotion for segment  1 :  calm\n",
      " predicted emotion for segment  2 :  disgust\n",
      " predicted emotion for segment  3 :  calm\n",
      " predicted emotion for segment  4 :  calm\n",
      " predicted emotion for segment  5 :  calm\n",
      " predicted emotion for segment  6 :  calm\n",
      " predicted emotion for segment  7 :  sad\n",
      " predicted emotion for segment  8 :  calm\n",
      " predicted emotion for segment  9 :  calm\n",
      "['calm', 'calm', 'disgust', 'calm', 'calm', 'calm', 'calm', 'sad', 'calm', 'calm']\n",
      "8.44\n"
     ]
    },
    {
     "name": "stderr",
     "output_type": "stream",
     "text": [
      "IMAGEIO FFMPEG_WRITER WARNING: input image is not divisible by macro_block_size=16, resizing from (264, 280) to (272, 288) to ensure video compatibility with most codecs and players. To prevent resizing, make your input image divisible by the macro_block_size or set the macro_block_size to 1 (risking incompatibility).\n"
     ]
    },
    {
     "name": "stdout",
     "output_type": "stream",
     "text": [
      "Moviepy - Building video C:\\Users\\future\\Desktop\\prototype\\avatars_audio\\small_audios\\output0000.mp4.\n",
      "MoviePy - Writing audio in output0000TEMP_MPY_wvf_snd.mp3\n"
     ]
    },
    {
     "name": "stderr",
     "output_type": "stream",
     "text": [
      "                                                                   \r"
     ]
    },
    {
     "name": "stdout",
     "output_type": "stream",
     "text": [
      "MoviePy - Done.\n",
      "Moviepy - Writing video C:\\Users\\future\\Desktop\\prototype\\avatars_audio\\small_audios\\output0000.mp4\n",
      "\n"
     ]
    },
    {
     "name": "stderr",
     "output_type": "stream",
     "text": [
      "                                                           \r"
     ]
    },
    {
     "name": "stdout",
     "output_type": "stream",
     "text": [
      "Moviepy - Done !\n",
      "Moviepy - video ready C:\\Users\\future\\Desktop\\prototype\\avatars_audio\\small_audios\\output0000.mp4\n"
     ]
    },
    {
     "name": "stderr",
     "output_type": "stream",
     "text": [
      "IMAGEIO FFMPEG_WRITER WARNING: input image is not divisible by macro_block_size=16, resizing from (264, 280) to (272, 288) to ensure video compatibility with most codecs and players. To prevent resizing, make your input image divisible by the macro_block_size or set the macro_block_size to 1 (risking incompatibility).\n"
     ]
    },
    {
     "name": "stdout",
     "output_type": "stream",
     "text": [
      "0.63\n",
      "Moviepy - Building video C:\\Users\\future\\Desktop\\prototype\\avatars_audio\\small_audios\\output0001.mp4.\n",
      "MoviePy - Writing audio in output0001TEMP_MPY_wvf_snd.mp3\n"
     ]
    },
    {
     "name": "stderr",
     "output_type": "stream",
     "text": [
      "                                                               \r"
     ]
    },
    {
     "name": "stdout",
     "output_type": "stream",
     "text": [
      "MoviePy - Done.\n",
      "Moviepy - Writing video C:\\Users\\future\\Desktop\\prototype\\avatars_audio\\small_audios\\output0001.mp4\n",
      "\n"
     ]
    },
    {
     "name": "stderr",
     "output_type": "stream",
     "text": [
      "                                                  \r"
     ]
    },
    {
     "name": "stdout",
     "output_type": "stream",
     "text": [
      "Moviepy - Done !\n",
      "Moviepy - video ready C:\\Users\\future\\Desktop\\prototype\\avatars_audio\\small_audios\\output0001.mp4\n"
     ]
    },
    {
     "name": "stderr",
     "output_type": "stream",
     "text": [
      "IMAGEIO FFMPEG_WRITER WARNING: input image is not divisible by macro_block_size=16, resizing from (264, 280) to (272, 288) to ensure video compatibility with most codecs and players. To prevent resizing, make your input image divisible by the macro_block_size or set the macro_block_size to 1 (risking incompatibility).\n"
     ]
    },
    {
     "name": "stdout",
     "output_type": "stream",
     "text": [
      "0.8\n",
      "Moviepy - Building video C:\\Users\\future\\Desktop\\prototype\\avatars_audio\\small_audios\\output0002.mp4.\n",
      "MoviePy - Writing audio in output0002TEMP_MPY_wvf_snd.mp3\n"
     ]
    },
    {
     "name": "stderr",
     "output_type": "stream",
     "text": [
      "                                                       \r"
     ]
    },
    {
     "name": "stdout",
     "output_type": "stream",
     "text": [
      "MoviePy - Done.\n",
      "Moviepy - Writing video C:\\Users\\future\\Desktop\\prototype\\avatars_audio\\small_audios\\output0002.mp4\n",
      "\n"
     ]
    },
    {
     "name": "stderr",
     "output_type": "stream",
     "text": [
      "                                                  \r"
     ]
    },
    {
     "name": "stdout",
     "output_type": "stream",
     "text": [
      "Moviepy - Done !\n",
      "Moviepy - video ready C:\\Users\\future\\Desktop\\prototype\\avatars_audio\\small_audios\\output0002.mp4\n"
     ]
    },
    {
     "name": "stderr",
     "output_type": "stream",
     "text": [
      "IMAGEIO FFMPEG_WRITER WARNING: input image is not divisible by macro_block_size=16, resizing from (264, 280) to (272, 288) to ensure video compatibility with most codecs and players. To prevent resizing, make your input image divisible by the macro_block_size or set the macro_block_size to 1 (risking incompatibility).\n"
     ]
    },
    {
     "name": "stdout",
     "output_type": "stream",
     "text": [
      "3.28\n",
      "Moviepy - Building video C:\\Users\\future\\Desktop\\prototype\\avatars_audio\\small_audios\\output0003.mp4.\n",
      "MoviePy - Writing audio in output0003TEMP_MPY_wvf_snd.mp3\n"
     ]
    },
    {
     "name": "stderr",
     "output_type": "stream",
     "text": [
      "                                                                 \r"
     ]
    },
    {
     "name": "stdout",
     "output_type": "stream",
     "text": [
      "MoviePy - Done.\n",
      "Moviepy - Writing video C:\\Users\\future\\Desktop\\prototype\\avatars_audio\\small_audios\\output0003.mp4\n",
      "\n"
     ]
    },
    {
     "name": "stderr",
     "output_type": "stream",
     "text": [
      "                                                   \r"
     ]
    },
    {
     "name": "stdout",
     "output_type": "stream",
     "text": [
      "Moviepy - Done !\n",
      "Moviepy - video ready C:\\Users\\future\\Desktop\\prototype\\avatars_audio\\small_audios\\output0003.mp4\n"
     ]
    },
    {
     "name": "stderr",
     "output_type": "stream",
     "text": [
      "IMAGEIO FFMPEG_WRITER WARNING: input image is not divisible by macro_block_size=16, resizing from (264, 280) to (272, 288) to ensure video compatibility with most codecs and players. To prevent resizing, make your input image divisible by the macro_block_size or set the macro_block_size to 1 (risking incompatibility).\n"
     ]
    },
    {
     "name": "stdout",
     "output_type": "stream",
     "text": [
      "2.46\n",
      "Moviepy - Building video C:\\Users\\future\\Desktop\\prototype\\avatars_audio\\small_audios\\output0004.mp4.\n",
      "MoviePy - Writing audio in output0004TEMP_MPY_wvf_snd.mp3\n"
     ]
    },
    {
     "name": "stderr",
     "output_type": "stream",
     "text": [
      "                                                                 \r"
     ]
    },
    {
     "name": "stdout",
     "output_type": "stream",
     "text": [
      "MoviePy - Done.\n",
      "Moviepy - Writing video C:\\Users\\future\\Desktop\\prototype\\avatars_audio\\small_audios\\output0004.mp4\n",
      "\n"
     ]
    },
    {
     "name": "stderr",
     "output_type": "stream",
     "text": [
      "                                                          \r"
     ]
    },
    {
     "name": "stdout",
     "output_type": "stream",
     "text": [
      "Moviepy - Done !\n",
      "Moviepy - video ready C:\\Users\\future\\Desktop\\prototype\\avatars_audio\\small_audios\\output0004.mp4\n"
     ]
    },
    {
     "name": "stderr",
     "output_type": "stream",
     "text": [
      "IMAGEIO FFMPEG_WRITER WARNING: input image is not divisible by macro_block_size=16, resizing from (264, 280) to (272, 288) to ensure video compatibility with most codecs and players. To prevent resizing, make your input image divisible by the macro_block_size or set the macro_block_size to 1 (risking incompatibility).\n"
     ]
    },
    {
     "name": "stdout",
     "output_type": "stream",
     "text": [
      "2.65\n",
      "Moviepy - Building video C:\\Users\\future\\Desktop\\prototype\\avatars_audio\\small_audios\\output0005.mp4.\n",
      "MoviePy - Writing audio in output0005TEMP_MPY_wvf_snd.mp3\n"
     ]
    },
    {
     "name": "stderr",
     "output_type": "stream",
     "text": [
      "                                                                 \r"
     ]
    },
    {
     "name": "stdout",
     "output_type": "stream",
     "text": [
      "MoviePy - Done.\n",
      "Moviepy - Writing video C:\\Users\\future\\Desktop\\prototype\\avatars_audio\\small_audios\\output0005.mp4\n",
      "\n"
     ]
    },
    {
     "name": "stderr",
     "output_type": "stream",
     "text": [
      "                                                   \r"
     ]
    },
    {
     "name": "stdout",
     "output_type": "stream",
     "text": [
      "Moviepy - Done !\n",
      "Moviepy - video ready C:\\Users\\future\\Desktop\\prototype\\avatars_audio\\small_audios\\output0005.mp4\n"
     ]
    },
    {
     "name": "stderr",
     "output_type": "stream",
     "text": [
      "IMAGEIO FFMPEG_WRITER WARNING: input image is not divisible by macro_block_size=16, resizing from (264, 280) to (272, 288) to ensure video compatibility with most codecs and players. To prevent resizing, make your input image divisible by the macro_block_size or set the macro_block_size to 1 (risking incompatibility).\n"
     ]
    },
    {
     "name": "stdout",
     "output_type": "stream",
     "text": [
      "0.98\n",
      "Moviepy - Building video C:\\Users\\future\\Desktop\\prototype\\avatars_audio\\small_audios\\output0006.mp4.\n",
      "MoviePy - Writing audio in output0006TEMP_MPY_wvf_snd.mp3\n"
     ]
    },
    {
     "name": "stderr",
     "output_type": "stream",
     "text": [
      "                                                       \r"
     ]
    },
    {
     "name": "stdout",
     "output_type": "stream",
     "text": [
      "MoviePy - Done.\n",
      "Moviepy - Writing video C:\\Users\\future\\Desktop\\prototype\\avatars_audio\\small_audios\\output0006.mp4\n",
      "\n"
     ]
    },
    {
     "name": "stderr",
     "output_type": "stream",
     "text": [
      "                                                  \r"
     ]
    },
    {
     "name": "stdout",
     "output_type": "stream",
     "text": [
      "Moviepy - Done !\n",
      "Moviepy - video ready C:\\Users\\future\\Desktop\\prototype\\avatars_audio\\small_audios\\output0006.mp4\n"
     ]
    },
    {
     "name": "stderr",
     "output_type": "stream",
     "text": [
      "IMAGEIO FFMPEG_WRITER WARNING: input image is not divisible by macro_block_size=16, resizing from (264, 280) to (272, 288) to ensure video compatibility with most codecs and players. To prevent resizing, make your input image divisible by the macro_block_size or set the macro_block_size to 1 (risking incompatibility).\n"
     ]
    },
    {
     "name": "stdout",
     "output_type": "stream",
     "text": [
      "0.82\n",
      "Moviepy - Building video C:\\Users\\future\\Desktop\\prototype\\avatars_audio\\small_audios\\output0007.mp4.\n",
      "MoviePy - Writing audio in output0007TEMP_MPY_wvf_snd.mp3\n"
     ]
    },
    {
     "name": "stderr",
     "output_type": "stream",
     "text": [
      "                                                       \r"
     ]
    },
    {
     "name": "stdout",
     "output_type": "stream",
     "text": [
      "MoviePy - Done.\n",
      "Moviepy - Writing video C:\\Users\\future\\Desktop\\prototype\\avatars_audio\\small_audios\\output0007.mp4\n",
      "\n"
     ]
    },
    {
     "name": "stderr",
     "output_type": "stream",
     "text": [
      "                                                  \r"
     ]
    },
    {
     "name": "stdout",
     "output_type": "stream",
     "text": [
      "Moviepy - Done !\n",
      "Moviepy - video ready C:\\Users\\future\\Desktop\\prototype\\avatars_audio\\small_audios\\output0007.mp4\n"
     ]
    },
    {
     "name": "stderr",
     "output_type": "stream",
     "text": [
      "IMAGEIO FFMPEG_WRITER WARNING: input image is not divisible by macro_block_size=16, resizing from (264, 280) to (272, 288) to ensure video compatibility with most codecs and players. To prevent resizing, make your input image divisible by the macro_block_size or set the macro_block_size to 1 (risking incompatibility).\n"
     ]
    },
    {
     "name": "stdout",
     "output_type": "stream",
     "text": [
      "0.63\n",
      "Moviepy - Building video C:\\Users\\future\\Desktop\\prototype\\avatars_audio\\small_audios\\output0008.mp4.\n",
      "MoviePy - Writing audio in output0008TEMP_MPY_wvf_snd.mp3\n"
     ]
    },
    {
     "name": "stderr",
     "output_type": "stream",
     "text": [
      "                                                       \r"
     ]
    },
    {
     "name": "stdout",
     "output_type": "stream",
     "text": [
      "MoviePy - Done.\n",
      "Moviepy - Writing video C:\\Users\\future\\Desktop\\prototype\\avatars_audio\\small_audios\\output0008.mp4\n",
      "\n"
     ]
    },
    {
     "name": "stderr",
     "output_type": "stream",
     "text": [
      "                                                  \r"
     ]
    },
    {
     "name": "stdout",
     "output_type": "stream",
     "text": [
      "Moviepy - Done !\n",
      "Moviepy - video ready C:\\Users\\future\\Desktop\\prototype\\avatars_audio\\small_audios\\output0008.mp4\n"
     ]
    },
    {
     "name": "stderr",
     "output_type": "stream",
     "text": [
      "IMAGEIO FFMPEG_WRITER WARNING: input image is not divisible by macro_block_size=16, resizing from (264, 280) to (272, 288) to ensure video compatibility with most codecs and players. To prevent resizing, make your input image divisible by the macro_block_size or set the macro_block_size to 1 (risking incompatibility).\n"
     ]
    },
    {
     "name": "stdout",
     "output_type": "stream",
     "text": [
      "0.6\n",
      "Moviepy - Building video C:\\Users\\future\\Desktop\\prototype\\avatars_audio\\small_audios\\output0009.mp4.\n",
      "MoviePy - Writing audio in output0009TEMP_MPY_wvf_snd.mp3\n"
     ]
    },
    {
     "name": "stderr",
     "output_type": "stream",
     "text": [
      "                                                       \r"
     ]
    },
    {
     "name": "stdout",
     "output_type": "stream",
     "text": [
      "MoviePy - Done.\n",
      "Moviepy - Writing video C:\\Users\\future\\Desktop\\prototype\\avatars_audio\\small_audios\\output0009.mp4\n",
      "\n"
     ]
    },
    {
     "name": "stderr",
     "output_type": "stream",
     "text": [
      "                                                  \r"
     ]
    },
    {
     "name": "stdout",
     "output_type": "stream",
     "text": [
      "Moviepy - Done !\n",
      "Moviepy - video ready C:\\Users\\future\\Desktop\\prototype\\avatars_audio\\small_audios\\output0009.mp4\n",
      "Moviepy - Building video C:\\Users\\future\\Desktop\\prototype\\videos\\last_video.mp4.\n",
      "MoviePy - Writing audio in last_videoTEMP_MPY_wvf_snd.mp3\n"
     ]
    },
    {
     "name": "stderr",
     "output_type": "stream",
     "text": [
      "                                                                    \r"
     ]
    },
    {
     "name": "stdout",
     "output_type": "stream",
     "text": [
      "MoviePy - Done.\n",
      "Moviepy - Writing video C:\\Users\\future\\Desktop\\prototype\\videos\\last_video.mp4\n",
      "\n"
     ]
    },
    {
     "name": "stderr",
     "output_type": "stream",
     "text": [
      "                                                              \r"
     ]
    },
    {
     "name": "stdout",
     "output_type": "stream",
     "text": [
      "Moviepy - Done !\n",
      "Moviepy - video ready C:\\Users\\future\\Desktop\\prototype\\videos\\last_video.mp4\n",
      "Recording\n",
      "Finished recording\n",
      "C:\\Users\\future\\Desktop\\prototype\\avatars\n",
      " Processed 10/10 waveformsNumber of trainable params:  248488\n",
      " predicted emotion for segment  0 :  happy\n",
      " predicted emotion for segment  1 :  calm\n",
      " predicted emotion for segment  2 :  calm\n",
      " predicted emotion for segment  3 :  calm\n",
      " predicted emotion for segment  4 :  calm\n",
      " predicted emotion for segment  5 :  calm\n",
      " predicted emotion for segment  6 :  calm\n",
      " predicted emotion for segment  7 :  sad\n",
      " predicted emotion for segment  8 :  calm\n",
      " predicted emotion for segment  9 :  calm\n",
      "['happy', 'calm', 'calm', 'calm', 'calm', 'calm', 'calm', 'sad', 'calm', 'calm']\n"
     ]
    },
    {
     "name": "stderr",
     "output_type": "stream",
     "text": [
      "IMAGEIO FFMPEG_WRITER WARNING: input image is not divisible by macro_block_size=16, resizing from (264, 280) to (272, 288) to ensure video compatibility with most codecs and players. To prevent resizing, make your input image divisible by the macro_block_size or set the macro_block_size to 1 (risking incompatibility).\n"
     ]
    },
    {
     "name": "stdout",
     "output_type": "stream",
     "text": [
      "2.62\n",
      "Moviepy - Building video C:\\Users\\future\\Desktop\\prototype\\avatars_audio\\small_audios\\output0000.mp4.\n",
      "MoviePy - Writing audio in output0000TEMP_MPY_wvf_snd.mp3\n"
     ]
    },
    {
     "name": "stderr",
     "output_type": "stream",
     "text": [
      "                                                                 \r"
     ]
    },
    {
     "name": "stdout",
     "output_type": "stream",
     "text": [
      "MoviePy - Done.\n",
      "Moviepy - Writing video C:\\Users\\future\\Desktop\\prototype\\avatars_audio\\small_audios\\output0000.mp4\n",
      "\n"
     ]
    },
    {
     "name": "stderr",
     "output_type": "stream",
     "text": [
      "                                                   \r"
     ]
    },
    {
     "name": "stdout",
     "output_type": "stream",
     "text": [
      "Moviepy - Done !\n",
      "Moviepy - video ready C:\\Users\\future\\Desktop\\prototype\\avatars_audio\\small_audios\\output0000.mp4\n"
     ]
    },
    {
     "name": "stderr",
     "output_type": "stream",
     "text": [
      "IMAGEIO FFMPEG_WRITER WARNING: input image is not divisible by macro_block_size=16, resizing from (264, 280) to (272, 288) to ensure video compatibility with most codecs and players. To prevent resizing, make your input image divisible by the macro_block_size or set the macro_block_size to 1 (risking incompatibility).\n"
     ]
    },
    {
     "name": "stdout",
     "output_type": "stream",
     "text": [
      "0.7\n",
      "Moviepy - Building video C:\\Users\\future\\Desktop\\prototype\\avatars_audio\\small_audios\\output0001.mp4.\n",
      "MoviePy - Writing audio in output0001TEMP_MPY_wvf_snd.mp3\n"
     ]
    },
    {
     "name": "stderr",
     "output_type": "stream",
     "text": [
      "                                                       \r"
     ]
    },
    {
     "name": "stdout",
     "output_type": "stream",
     "text": [
      "MoviePy - Done.\n",
      "Moviepy - Writing video C:\\Users\\future\\Desktop\\prototype\\avatars_audio\\small_audios\\output0001.mp4\n",
      "\n"
     ]
    },
    {
     "name": "stderr",
     "output_type": "stream",
     "text": [
      "                                                  \r"
     ]
    },
    {
     "name": "stdout",
     "output_type": "stream",
     "text": [
      "Moviepy - Done !\n",
      "Moviepy - video ready C:\\Users\\future\\Desktop\\prototype\\avatars_audio\\small_audios\\output0001.mp4\n"
     ]
    },
    {
     "name": "stderr",
     "output_type": "stream",
     "text": [
      "IMAGEIO FFMPEG_WRITER WARNING: input image is not divisible by macro_block_size=16, resizing from (264, 280) to (272, 288) to ensure video compatibility with most codecs and players. To prevent resizing, make your input image divisible by the macro_block_size or set the macro_block_size to 1 (risking incompatibility).\n"
     ]
    },
    {
     "name": "stdout",
     "output_type": "stream",
     "text": [
      "6.54\n",
      "Moviepy - Building video C:\\Users\\future\\Desktop\\prototype\\avatars_audio\\small_audios\\output0002.mp4.\n",
      "MoviePy - Writing audio in output0002TEMP_MPY_wvf_snd.mp3\n"
     ]
    },
    {
     "name": "stderr",
     "output_type": "stream",
     "text": [
      "                                                                  \r"
     ]
    },
    {
     "name": "stdout",
     "output_type": "stream",
     "text": [
      "MoviePy - Done.\n",
      "Moviepy - Writing video C:\\Users\\future\\Desktop\\prototype\\avatars_audio\\small_audios\\output0002.mp4\n",
      "\n"
     ]
    },
    {
     "name": "stderr",
     "output_type": "stream",
     "text": [
      "                                                             \r"
     ]
    },
    {
     "name": "stdout",
     "output_type": "stream",
     "text": [
      "Moviepy - Done !\n",
      "Moviepy - video ready C:\\Users\\future\\Desktop\\prototype\\avatars_audio\\small_audios\\output0002.mp4\n"
     ]
    },
    {
     "name": "stderr",
     "output_type": "stream",
     "text": [
      "IMAGEIO FFMPEG_WRITER WARNING: input image is not divisible by macro_block_size=16, resizing from (264, 280) to (272, 288) to ensure video compatibility with most codecs and players. To prevent resizing, make your input image divisible by the macro_block_size or set the macro_block_size to 1 (risking incompatibility).\n"
     ]
    },
    {
     "name": "stdout",
     "output_type": "stream",
     "text": [
      "3.28\n",
      "Moviepy - Building video C:\\Users\\future\\Desktop\\prototype\\avatars_audio\\small_audios\\output0003.mp4.\n",
      "MoviePy - Writing audio in output0003TEMP_MPY_wvf_snd.mp3\n"
     ]
    },
    {
     "name": "stderr",
     "output_type": "stream",
     "text": [
      "                                                               \r"
     ]
    },
    {
     "name": "stdout",
     "output_type": "stream",
     "text": [
      "MoviePy - Done.\n",
      "Moviepy - Writing video C:\\Users\\future\\Desktop\\prototype\\avatars_audio\\small_audios\\output0003.mp4\n",
      "\n"
     ]
    },
    {
     "name": "stderr",
     "output_type": "stream",
     "text": [
      "                                                   \r"
     ]
    },
    {
     "name": "stdout",
     "output_type": "stream",
     "text": [
      "Moviepy - Done !\n",
      "Moviepy - video ready C:\\Users\\future\\Desktop\\prototype\\avatars_audio\\small_audios\\output0003.mp4\n"
     ]
    },
    {
     "name": "stderr",
     "output_type": "stream",
     "text": [
      "IMAGEIO FFMPEG_WRITER WARNING: input image is not divisible by macro_block_size=16, resizing from (264, 280) to (272, 288) to ensure video compatibility with most codecs and players. To prevent resizing, make your input image divisible by the macro_block_size or set the macro_block_size to 1 (risking incompatibility).\n"
     ]
    },
    {
     "name": "stdout",
     "output_type": "stream",
     "text": [
      "2.46\n",
      "Moviepy - Building video C:\\Users\\future\\Desktop\\prototype\\avatars_audio\\small_audios\\output0004.mp4.\n",
      "MoviePy - Writing audio in output0004TEMP_MPY_wvf_snd.mp3\n"
     ]
    },
    {
     "name": "stderr",
     "output_type": "stream",
     "text": [
      "                                                                 \r"
     ]
    },
    {
     "name": "stdout",
     "output_type": "stream",
     "text": [
      "MoviePy - Done.\n",
      "Moviepy - Writing video C:\\Users\\future\\Desktop\\prototype\\avatars_audio\\small_audios\\output0004.mp4\n",
      "\n"
     ]
    },
    {
     "name": "stderr",
     "output_type": "stream",
     "text": [
      "                                                  \r"
     ]
    },
    {
     "name": "stdout",
     "output_type": "stream",
     "text": [
      "Moviepy - Done !\n",
      "Moviepy - video ready C:\\Users\\future\\Desktop\\prototype\\avatars_audio\\small_audios\\output0004.mp4\n"
     ]
    },
    {
     "name": "stderr",
     "output_type": "stream",
     "text": [
      "IMAGEIO FFMPEG_WRITER WARNING: input image is not divisible by macro_block_size=16, resizing from (264, 280) to (272, 288) to ensure video compatibility with most codecs and players. To prevent resizing, make your input image divisible by the macro_block_size or set the macro_block_size to 1 (risking incompatibility).\n"
     ]
    },
    {
     "name": "stdout",
     "output_type": "stream",
     "text": [
      "2.65\n",
      "Moviepy - Building video C:\\Users\\future\\Desktop\\prototype\\avatars_audio\\small_audios\\output0005.mp4.\n",
      "MoviePy - Writing audio in output0005TEMP_MPY_wvf_snd.mp3\n"
     ]
    },
    {
     "name": "stderr",
     "output_type": "stream",
     "text": [
      "                                                                 \r"
     ]
    },
    {
     "name": "stdout",
     "output_type": "stream",
     "text": [
      "MoviePy - Done.\n",
      "Moviepy - Writing video C:\\Users\\future\\Desktop\\prototype\\avatars_audio\\small_audios\\output0005.mp4\n",
      "\n"
     ]
    },
    {
     "name": "stderr",
     "output_type": "stream",
     "text": [
      "                                                   \r"
     ]
    },
    {
     "name": "stdout",
     "output_type": "stream",
     "text": [
      "Moviepy - Done !\n",
      "Moviepy - video ready C:\\Users\\future\\Desktop\\prototype\\avatars_audio\\small_audios\\output0005.mp4\n"
     ]
    },
    {
     "name": "stderr",
     "output_type": "stream",
     "text": [
      "IMAGEIO FFMPEG_WRITER WARNING: input image is not divisible by macro_block_size=16, resizing from (264, 280) to (272, 288) to ensure video compatibility with most codecs and players. To prevent resizing, make your input image divisible by the macro_block_size or set the macro_block_size to 1 (risking incompatibility).\n"
     ]
    },
    {
     "name": "stdout",
     "output_type": "stream",
     "text": [
      "0.98\n",
      "Moviepy - Building video C:\\Users\\future\\Desktop\\prototype\\avatars_audio\\small_audios\\output0006.mp4.\n",
      "MoviePy - Writing audio in output0006TEMP_MPY_wvf_snd.mp3\n"
     ]
    },
    {
     "name": "stderr",
     "output_type": "stream",
     "text": [
      "                                                               \r"
     ]
    },
    {
     "name": "stdout",
     "output_type": "stream",
     "text": [
      "MoviePy - Done.\n",
      "Moviepy - Writing video C:\\Users\\future\\Desktop\\prototype\\avatars_audio\\small_audios\\output0006.mp4\n",
      "\n"
     ]
    },
    {
     "name": "stderr",
     "output_type": "stream",
     "text": [
      "                                                          \r"
     ]
    },
    {
     "name": "stdout",
     "output_type": "stream",
     "text": [
      "Moviepy - Done !\n",
      "Moviepy - video ready C:\\Users\\future\\Desktop\\prototype\\avatars_audio\\small_audios\\output0006.mp4\n"
     ]
    },
    {
     "name": "stderr",
     "output_type": "stream",
     "text": [
      "IMAGEIO FFMPEG_WRITER WARNING: input image is not divisible by macro_block_size=16, resizing from (264, 280) to (272, 288) to ensure video compatibility with most codecs and players. To prevent resizing, make your input image divisible by the macro_block_size or set the macro_block_size to 1 (risking incompatibility).\n"
     ]
    },
    {
     "name": "stdout",
     "output_type": "stream",
     "text": [
      "0.82\n",
      "Moviepy - Building video C:\\Users\\future\\Desktop\\prototype\\avatars_audio\\small_audios\\output0007.mp4.\n",
      "MoviePy - Writing audio in output0007TEMP_MPY_wvf_snd.mp3\n"
     ]
    },
    {
     "name": "stderr",
     "output_type": "stream",
     "text": [
      "                                                       \r"
     ]
    },
    {
     "name": "stdout",
     "output_type": "stream",
     "text": [
      "MoviePy - Done.\n",
      "Moviepy - Writing video C:\\Users\\future\\Desktop\\prototype\\avatars_audio\\small_audios\\output0007.mp4\n",
      "\n"
     ]
    },
    {
     "name": "stderr",
     "output_type": "stream",
     "text": [
      "                                                  \r"
     ]
    },
    {
     "name": "stdout",
     "output_type": "stream",
     "text": [
      "Moviepy - Done !\n",
      "Moviepy - video ready C:\\Users\\future\\Desktop\\prototype\\avatars_audio\\small_audios\\output0007.mp4\n"
     ]
    },
    {
     "name": "stderr",
     "output_type": "stream",
     "text": [
      "IMAGEIO FFMPEG_WRITER WARNING: input image is not divisible by macro_block_size=16, resizing from (264, 280) to (272, 288) to ensure video compatibility with most codecs and players. To prevent resizing, make your input image divisible by the macro_block_size or set the macro_block_size to 1 (risking incompatibility).\n"
     ]
    },
    {
     "name": "stdout",
     "output_type": "stream",
     "text": [
      "0.63\n",
      "Moviepy - Building video C:\\Users\\future\\Desktop\\prototype\\avatars_audio\\small_audios\\output0008.mp4.\n",
      "MoviePy - Writing audio in output0008TEMP_MPY_wvf_snd.mp3\n"
     ]
    },
    {
     "name": "stderr",
     "output_type": "stream",
     "text": [
      "                                                       \r"
     ]
    },
    {
     "name": "stdout",
     "output_type": "stream",
     "text": [
      "MoviePy - Done.\n",
      "Moviepy - Writing video C:\\Users\\future\\Desktop\\prototype\\avatars_audio\\small_audios\\output0008.mp4\n",
      "\n"
     ]
    },
    {
     "name": "stderr",
     "output_type": "stream",
     "text": [
      "                                                  \r"
     ]
    },
    {
     "name": "stdout",
     "output_type": "stream",
     "text": [
      "Moviepy - Done !\n",
      "Moviepy - video ready C:\\Users\\future\\Desktop\\prototype\\avatars_audio\\small_audios\\output0008.mp4\n"
     ]
    },
    {
     "name": "stderr",
     "output_type": "stream",
     "text": [
      "IMAGEIO FFMPEG_WRITER WARNING: input image is not divisible by macro_block_size=16, resizing from (264, 280) to (272, 288) to ensure video compatibility with most codecs and players. To prevent resizing, make your input image divisible by the macro_block_size or set the macro_block_size to 1 (risking incompatibility).\n"
     ]
    },
    {
     "name": "stdout",
     "output_type": "stream",
     "text": [
      "0.6\n",
      "Moviepy - Building video C:\\Users\\future\\Desktop\\prototype\\avatars_audio\\small_audios\\output0009.mp4.\n",
      "MoviePy - Writing audio in output0009TEMP_MPY_wvf_snd.mp3\n"
     ]
    },
    {
     "name": "stderr",
     "output_type": "stream",
     "text": [
      "                                                                 \r"
     ]
    },
    {
     "name": "stdout",
     "output_type": "stream",
     "text": [
      "MoviePy - Done.\n",
      "Moviepy - Writing video C:\\Users\\future\\Desktop\\prototype\\avatars_audio\\small_audios\\output0009.mp4\n",
      "\n"
     ]
    },
    {
     "name": "stderr",
     "output_type": "stream",
     "text": [
      "                                                  \r"
     ]
    },
    {
     "name": "stdout",
     "output_type": "stream",
     "text": [
      "Moviepy - Done !\n",
      "Moviepy - video ready C:\\Users\\future\\Desktop\\prototype\\avatars_audio\\small_audios\\output0009.mp4\n",
      "Moviepy - Building video C:\\Users\\future\\Desktop\\prototype\\videos\\last_video.mp4.\n",
      "MoviePy - Writing audio in last_videoTEMP_MPY_wvf_snd.mp3\n"
     ]
    },
    {
     "name": "stderr",
     "output_type": "stream",
     "text": [
      "                                                                    \r"
     ]
    },
    {
     "name": "stdout",
     "output_type": "stream",
     "text": [
      "MoviePy - Done.\n",
      "Moviepy - Writing video C:\\Users\\future\\Desktop\\prototype\\videos\\last_video.mp4\n",
      "\n"
     ]
    },
    {
     "name": "stderr",
     "output_type": "stream",
     "text": [
      "                                                              \r"
     ]
    },
    {
     "name": "stdout",
     "output_type": "stream",
     "text": [
      "Moviepy - Done !\n",
      "Moviepy - video ready C:\\Users\\future\\Desktop\\prototype\\videos\\last_video.mp4\n",
      "Recording\n",
      "Finished recording\n",
      "C:\\Users\\future\\Desktop\\prototype\\avatars\n",
      " Processed 10/10 waveformsNumber of trainable params:  248488\n",
      " predicted emotion for segment  0 :  calm\n",
      " predicted emotion for segment  1 :  happy\n",
      " predicted emotion for segment  2 :  calm\n",
      " predicted emotion for segment  3 :  calm\n",
      " predicted emotion for segment  4 :  calm\n",
      " predicted emotion for segment  5 :  calm\n",
      " predicted emotion for segment  6 :  calm\n",
      " predicted emotion for segment  7 :  sad\n",
      " predicted emotion for segment  8 :  calm\n",
      " predicted emotion for segment  9 :  calm\n",
      "['calm', 'happy', 'calm', 'calm', 'calm', 'calm', 'calm', 'sad', 'calm', 'calm']\n"
     ]
    },
    {
     "name": "stderr",
     "output_type": "stream",
     "text": [
      "IMAGEIO FFMPEG_WRITER WARNING: input image is not divisible by macro_block_size=16, resizing from (264, 280) to (272, 288) to ensure video compatibility with most codecs and players. To prevent resizing, make your input image divisible by the macro_block_size or set the macro_block_size to 1 (risking incompatibility).\n"
     ]
    },
    {
     "name": "stdout",
     "output_type": "stream",
     "text": [
      "6.43\n",
      "Moviepy - Building video C:\\Users\\future\\Desktop\\prototype\\avatars_audio\\small_audios\\output0000.mp4.\n",
      "MoviePy - Writing audio in output0000TEMP_MPY_wvf_snd.mp3\n"
     ]
    },
    {
     "name": "stderr",
     "output_type": "stream",
     "text": [
      "                                                                  \r"
     ]
    },
    {
     "name": "stdout",
     "output_type": "stream",
     "text": [
      "MoviePy - Done.\n",
      "Moviepy - Writing video C:\\Users\\future\\Desktop\\prototype\\avatars_audio\\small_audios\\output0000.mp4\n",
      "\n"
     ]
    },
    {
     "name": "stderr",
     "output_type": "stream",
     "text": [
      "                                                   \r"
     ]
    },
    {
     "name": "stdout",
     "output_type": "stream",
     "text": [
      "Moviepy - Done !\n",
      "Moviepy - video ready C:\\Users\\future\\Desktop\\prototype\\avatars_audio\\small_audios\\output0000.mp4\n"
     ]
    },
    {
     "name": "stderr",
     "output_type": "stream",
     "text": [
      "IMAGEIO FFMPEG_WRITER WARNING: input image is not divisible by macro_block_size=16, resizing from (264, 280) to (272, 288) to ensure video compatibility with most codecs and players. To prevent resizing, make your input image divisible by the macro_block_size or set the macro_block_size to 1 (risking incompatibility).\n"
     ]
    },
    {
     "name": "stdout",
     "output_type": "stream",
     "text": [
      "2.88\n",
      "Moviepy - Building video C:\\Users\\future\\Desktop\\prototype\\avatars_audio\\small_audios\\output0001.mp4.\n",
      "MoviePy - Writing audio in output0001TEMP_MPY_wvf_snd.mp3\n"
     ]
    },
    {
     "name": "stderr",
     "output_type": "stream",
     "text": [
      "                                                                 \r"
     ]
    },
    {
     "name": "stdout",
     "output_type": "stream",
     "text": [
      "MoviePy - Done.\n",
      "Moviepy - Writing video C:\\Users\\future\\Desktop\\prototype\\avatars_audio\\small_audios\\output0001.mp4\n",
      "\n"
     ]
    },
    {
     "name": "stderr",
     "output_type": "stream",
     "text": [
      "                                                   \r"
     ]
    },
    {
     "name": "stdout",
     "output_type": "stream",
     "text": [
      "Moviepy - Done !\n",
      "Moviepy - video ready C:\\Users\\future\\Desktop\\prototype\\avatars_audio\\small_audios\\output0001.mp4\n"
     ]
    },
    {
     "name": "stderr",
     "output_type": "stream",
     "text": [
      "IMAGEIO FFMPEG_WRITER WARNING: input image is not divisible by macro_block_size=16, resizing from (264, 280) to (272, 288) to ensure video compatibility with most codecs and players. To prevent resizing, make your input image divisible by the macro_block_size or set the macro_block_size to 1 (risking incompatibility).\n"
     ]
    },
    {
     "name": "stdout",
     "output_type": "stream",
     "text": [
      "6.54\n",
      "Moviepy - Building video C:\\Users\\future\\Desktop\\prototype\\avatars_audio\\small_audios\\output0002.mp4.\n",
      "MoviePy - Writing audio in output0002TEMP_MPY_wvf_snd.mp3\n"
     ]
    },
    {
     "name": "stderr",
     "output_type": "stream",
     "text": [
      "                                                                  \r"
     ]
    },
    {
     "name": "stdout",
     "output_type": "stream",
     "text": [
      "MoviePy - Done.\n",
      "Moviepy - Writing video C:\\Users\\future\\Desktop\\prototype\\avatars_audio\\small_audios\\output0002.mp4\n",
      "\n"
     ]
    },
    {
     "name": "stderr",
     "output_type": "stream",
     "text": [
      "                                                             \r"
     ]
    },
    {
     "name": "stdout",
     "output_type": "stream",
     "text": [
      "Moviepy - Done !\n",
      "Moviepy - video ready C:\\Users\\future\\Desktop\\prototype\\avatars_audio\\small_audios\\output0002.mp4\n"
     ]
    },
    {
     "name": "stderr",
     "output_type": "stream",
     "text": [
      "IMAGEIO FFMPEG_WRITER WARNING: input image is not divisible by macro_block_size=16, resizing from (264, 280) to (272, 288) to ensure video compatibility with most codecs and players. To prevent resizing, make your input image divisible by the macro_block_size or set the macro_block_size to 1 (risking incompatibility).\n"
     ]
    },
    {
     "name": "stdout",
     "output_type": "stream",
     "text": [
      "3.28\n",
      "Moviepy - Building video C:\\Users\\future\\Desktop\\prototype\\avatars_audio\\small_audios\\output0003.mp4.\n",
      "MoviePy - Writing audio in output0003TEMP_MPY_wvf_snd.mp3\n"
     ]
    },
    {
     "name": "stderr",
     "output_type": "stream",
     "text": [
      "                                                               \r"
     ]
    },
    {
     "name": "stdout",
     "output_type": "stream",
     "text": [
      "MoviePy - Done.\n",
      "Moviepy - Writing video C:\\Users\\future\\Desktop\\prototype\\avatars_audio\\small_audios\\output0003.mp4\n",
      "\n"
     ]
    },
    {
     "name": "stderr",
     "output_type": "stream",
     "text": [
      "                                                           \r"
     ]
    },
    {
     "name": "stdout",
     "output_type": "stream",
     "text": [
      "Moviepy - Done !\n",
      "Moviepy - video ready C:\\Users\\future\\Desktop\\prototype\\avatars_audio\\small_audios\\output0003.mp4\n"
     ]
    },
    {
     "name": "stderr",
     "output_type": "stream",
     "text": [
      "IMAGEIO FFMPEG_WRITER WARNING: input image is not divisible by macro_block_size=16, resizing from (264, 280) to (272, 288) to ensure video compatibility with most codecs and players. To prevent resizing, make your input image divisible by the macro_block_size or set the macro_block_size to 1 (risking incompatibility).\n"
     ]
    },
    {
     "name": "stdout",
     "output_type": "stream",
     "text": [
      "2.46\n",
      "Moviepy - Building video C:\\Users\\future\\Desktop\\prototype\\avatars_audio\\small_audios\\output0004.mp4.\n",
      "MoviePy - Writing audio in output0004TEMP_MPY_wvf_snd.mp3\n"
     ]
    },
    {
     "name": "stderr",
     "output_type": "stream",
     "text": [
      "                                                                 \r"
     ]
    },
    {
     "name": "stdout",
     "output_type": "stream",
     "text": [
      "MoviePy - Done.\n",
      "Moviepy - Writing video C:\\Users\\future\\Desktop\\prototype\\avatars_audio\\small_audios\\output0004.mp4\n",
      "\n"
     ]
    },
    {
     "name": "stderr",
     "output_type": "stream",
     "text": [
      "                                                          \r"
     ]
    },
    {
     "name": "stdout",
     "output_type": "stream",
     "text": [
      "Moviepy - Done !\n",
      "Moviepy - video ready C:\\Users\\future\\Desktop\\prototype\\avatars_audio\\small_audios\\output0004.mp4\n"
     ]
    },
    {
     "name": "stderr",
     "output_type": "stream",
     "text": [
      "IMAGEIO FFMPEG_WRITER WARNING: input image is not divisible by macro_block_size=16, resizing from (264, 280) to (272, 288) to ensure video compatibility with most codecs and players. To prevent resizing, make your input image divisible by the macro_block_size or set the macro_block_size to 1 (risking incompatibility).\n"
     ]
    },
    {
     "name": "stdout",
     "output_type": "stream",
     "text": [
      "2.65\n",
      "Moviepy - Building video C:\\Users\\future\\Desktop\\prototype\\avatars_audio\\small_audios\\output0005.mp4.\n",
      "MoviePy - Writing audio in output0005TEMP_MPY_wvf_snd.mp3\n"
     ]
    },
    {
     "name": "stderr",
     "output_type": "stream",
     "text": [
      "                                                                 \r"
     ]
    },
    {
     "name": "stdout",
     "output_type": "stream",
     "text": [
      "MoviePy - Done.\n",
      "Moviepy - Writing video C:\\Users\\future\\Desktop\\prototype\\avatars_audio\\small_audios\\output0005.mp4\n",
      "\n"
     ]
    },
    {
     "name": "stderr",
     "output_type": "stream",
     "text": [
      "                                                   \r"
     ]
    },
    {
     "name": "stdout",
     "output_type": "stream",
     "text": [
      "Moviepy - Done !\n",
      "Moviepy - video ready C:\\Users\\future\\Desktop\\prototype\\avatars_audio\\small_audios\\output0005.mp4\n"
     ]
    },
    {
     "name": "stderr",
     "output_type": "stream",
     "text": [
      "IMAGEIO FFMPEG_WRITER WARNING: input image is not divisible by macro_block_size=16, resizing from (264, 280) to (272, 288) to ensure video compatibility with most codecs and players. To prevent resizing, make your input image divisible by the macro_block_size or set the macro_block_size to 1 (risking incompatibility).\n"
     ]
    },
    {
     "name": "stdout",
     "output_type": "stream",
     "text": [
      "0.98\n",
      "Moviepy - Building video C:\\Users\\future\\Desktop\\prototype\\avatars_audio\\small_audios\\output0006.mp4.\n",
      "MoviePy - Writing audio in output0006TEMP_MPY_wvf_snd.mp3\n"
     ]
    },
    {
     "name": "stderr",
     "output_type": "stream",
     "text": [
      "                                                       \r"
     ]
    },
    {
     "name": "stdout",
     "output_type": "stream",
     "text": [
      "MoviePy - Done.\n",
      "Moviepy - Writing video C:\\Users\\future\\Desktop\\prototype\\avatars_audio\\small_audios\\output0006.mp4\n",
      "\n"
     ]
    },
    {
     "name": "stderr",
     "output_type": "stream",
     "text": [
      "                                                  \r"
     ]
    },
    {
     "name": "stdout",
     "output_type": "stream",
     "text": [
      "Moviepy - Done !\n",
      "Moviepy - video ready C:\\Users\\future\\Desktop\\prototype\\avatars_audio\\small_audios\\output0006.mp4\n"
     ]
    },
    {
     "name": "stderr",
     "output_type": "stream",
     "text": [
      "IMAGEIO FFMPEG_WRITER WARNING: input image is not divisible by macro_block_size=16, resizing from (264, 280) to (272, 288) to ensure video compatibility with most codecs and players. To prevent resizing, make your input image divisible by the macro_block_size or set the macro_block_size to 1 (risking incompatibility).\n"
     ]
    },
    {
     "name": "stdout",
     "output_type": "stream",
     "text": [
      "0.82\n",
      "Moviepy - Building video C:\\Users\\future\\Desktop\\prototype\\avatars_audio\\small_audios\\output0007.mp4.\n",
      "MoviePy - Writing audio in output0007TEMP_MPY_wvf_snd.mp3\n"
     ]
    },
    {
     "name": "stderr",
     "output_type": "stream",
     "text": [
      "                                                               \r"
     ]
    },
    {
     "name": "stdout",
     "output_type": "stream",
     "text": [
      "MoviePy - Done.\n",
      "Moviepy - Writing video C:\\Users\\future\\Desktop\\prototype\\avatars_audio\\small_audios\\output0007.mp4\n",
      "\n"
     ]
    },
    {
     "name": "stderr",
     "output_type": "stream",
     "text": [
      "                                                          \r"
     ]
    },
    {
     "name": "stdout",
     "output_type": "stream",
     "text": [
      "Moviepy - Done !\n",
      "Moviepy - video ready C:\\Users\\future\\Desktop\\prototype\\avatars_audio\\small_audios\\output0007.mp4\n"
     ]
    },
    {
     "name": "stderr",
     "output_type": "stream",
     "text": [
      "IMAGEIO FFMPEG_WRITER WARNING: input image is not divisible by macro_block_size=16, resizing from (264, 280) to (272, 288) to ensure video compatibility with most codecs and players. To prevent resizing, make your input image divisible by the macro_block_size or set the macro_block_size to 1 (risking incompatibility).\n"
     ]
    },
    {
     "name": "stdout",
     "output_type": "stream",
     "text": [
      "0.63\n",
      "Moviepy - Building video C:\\Users\\future\\Desktop\\prototype\\avatars_audio\\small_audios\\output0008.mp4.\n",
      "MoviePy - Writing audio in output0008TEMP_MPY_wvf_snd.mp3\n"
     ]
    },
    {
     "name": "stderr",
     "output_type": "stream",
     "text": [
      "                                                               \r"
     ]
    },
    {
     "name": "stdout",
     "output_type": "stream",
     "text": [
      "MoviePy - Done.\n",
      "Moviepy - Writing video C:\\Users\\future\\Desktop\\prototype\\avatars_audio\\small_audios\\output0008.mp4\n",
      "\n"
     ]
    },
    {
     "name": "stderr",
     "output_type": "stream",
     "text": [
      "                                                  \r"
     ]
    },
    {
     "name": "stdout",
     "output_type": "stream",
     "text": [
      "Moviepy - Done !\n",
      "Moviepy - video ready C:\\Users\\future\\Desktop\\prototype\\avatars_audio\\small_audios\\output0008.mp4\n"
     ]
    },
    {
     "name": "stderr",
     "output_type": "stream",
     "text": [
      "IMAGEIO FFMPEG_WRITER WARNING: input image is not divisible by macro_block_size=16, resizing from (264, 280) to (272, 288) to ensure video compatibility with most codecs and players. To prevent resizing, make your input image divisible by the macro_block_size or set the macro_block_size to 1 (risking incompatibility).\n"
     ]
    },
    {
     "name": "stdout",
     "output_type": "stream",
     "text": [
      "0.6\n",
      "Moviepy - Building video C:\\Users\\future\\Desktop\\prototype\\avatars_audio\\small_audios\\output0009.mp4.\n",
      "MoviePy - Writing audio in output0009TEMP_MPY_wvf_snd.mp3\n"
     ]
    },
    {
     "name": "stderr",
     "output_type": "stream",
     "text": [
      "                                                       \r"
     ]
    },
    {
     "name": "stdout",
     "output_type": "stream",
     "text": [
      "MoviePy - Done.\n",
      "Moviepy - Writing video C:\\Users\\future\\Desktop\\prototype\\avatars_audio\\small_audios\\output0009.mp4\n",
      "\n"
     ]
    },
    {
     "name": "stderr",
     "output_type": "stream",
     "text": [
      "                                                  \r"
     ]
    },
    {
     "name": "stdout",
     "output_type": "stream",
     "text": [
      "Moviepy - Done !\n",
      "Moviepy - video ready C:\\Users\\future\\Desktop\\prototype\\avatars_audio\\small_audios\\output0009.mp4\n",
      "Moviepy - Building video C:\\Users\\future\\Desktop\\prototype\\videos\\last_video.mp4.\n",
      "MoviePy - Writing audio in last_videoTEMP_MPY_wvf_snd.mp3\n"
     ]
    },
    {
     "name": "stderr",
     "output_type": "stream",
     "text": [
      "                                                                    \r"
     ]
    },
    {
     "name": "stdout",
     "output_type": "stream",
     "text": [
      "MoviePy - Done.\n",
      "Moviepy - Writing video C:\\Users\\future\\Desktop\\prototype\\videos\\last_video.mp4\n",
      "\n"
     ]
    },
    {
     "name": "stderr",
     "output_type": "stream",
     "text": [
      "                                                               \r"
     ]
    },
    {
     "name": "stdout",
     "output_type": "stream",
     "text": [
      "Moviepy - Done !\n",
      "Moviepy - video ready C:\\Users\\future\\Desktop\\prototype\\videos\\last_video.mp4\n",
      "Recording\n",
      "Finished recording\n",
      "C:\\Users\\future\\Desktop\\prototype\\avatars\n",
      " Processed 10/10 waveformsNumber of trainable params:  248488\n",
      " predicted emotion for segment  0 :  calm\n",
      " predicted emotion for segment  1 :  calm\n",
      " predicted emotion for segment  2 :  calm\n",
      " predicted emotion for segment  3 :  fearful\n",
      " predicted emotion for segment  4 :  calm\n",
      " predicted emotion for segment  5 :  calm\n",
      " predicted emotion for segment  6 :  calm\n",
      " predicted emotion for segment  7 :  sad\n",
      " predicted emotion for segment  8 :  calm\n",
      " predicted emotion for segment  9 :  calm\n",
      "['calm', 'calm', 'calm', 'fearful', 'calm', 'calm', 'calm', 'sad', 'calm', 'calm']\n"
     ]
    },
    {
     "name": "stderr",
     "output_type": "stream",
     "text": [
      "IMAGEIO FFMPEG_WRITER WARNING: input image is not divisible by macro_block_size=16, resizing from (264, 280) to (272, 288) to ensure video compatibility with most codecs and players. To prevent resizing, make your input image divisible by the macro_block_size or set the macro_block_size to 1 (risking incompatibility).\n"
     ]
    },
    {
     "name": "stdout",
     "output_type": "stream",
     "text": [
      "0.59\n",
      "Moviepy - Building video C:\\Users\\future\\Desktop\\prototype\\avatars_audio\\small_audios\\output0000.mp4.\n",
      "MoviePy - Writing audio in output0000TEMP_MPY_wvf_snd.mp3\n"
     ]
    },
    {
     "name": "stderr",
     "output_type": "stream",
     "text": [
      "                                                       \r"
     ]
    },
    {
     "name": "stdout",
     "output_type": "stream",
     "text": [
      "MoviePy - Done.\n",
      "Moviepy - Writing video C:\\Users\\future\\Desktop\\prototype\\avatars_audio\\small_audios\\output0000.mp4\n",
      "\n"
     ]
    },
    {
     "name": "stderr",
     "output_type": "stream",
     "text": [
      "                                                  \r"
     ]
    },
    {
     "name": "stdout",
     "output_type": "stream",
     "text": [
      "Moviepy - Done !\n",
      "Moviepy - video ready C:\\Users\\future\\Desktop\\prototype\\avatars_audio\\small_audios\\output0000.mp4\n"
     ]
    },
    {
     "name": "stderr",
     "output_type": "stream",
     "text": [
      "IMAGEIO FFMPEG_WRITER WARNING: input image is not divisible by macro_block_size=16, resizing from (264, 280) to (272, 288) to ensure video compatibility with most codecs and players. To prevent resizing, make your input image divisible by the macro_block_size or set the macro_block_size to 1 (risking incompatibility).\n"
     ]
    },
    {
     "name": "stdout",
     "output_type": "stream",
     "text": [
      "2.92\n",
      "Moviepy - Building video C:\\Users\\future\\Desktop\\prototype\\avatars_audio\\small_audios\\output0001.mp4.\n",
      "MoviePy - Writing audio in output0001TEMP_MPY_wvf_snd.mp3\n"
     ]
    },
    {
     "name": "stderr",
     "output_type": "stream",
     "text": [
      "                                                               \r"
     ]
    },
    {
     "name": "stdout",
     "output_type": "stream",
     "text": [
      "MoviePy - Done.\n",
      "Moviepy - Writing video C:\\Users\\future\\Desktop\\prototype\\avatars_audio\\small_audios\\output0001.mp4\n",
      "\n"
     ]
    },
    {
     "name": "stderr",
     "output_type": "stream",
     "text": [
      "                                                           \r"
     ]
    },
    {
     "name": "stdout",
     "output_type": "stream",
     "text": [
      "Moviepy - Done !\n",
      "Moviepy - video ready C:\\Users\\future\\Desktop\\prototype\\avatars_audio\\small_audios\\output0001.mp4\n"
     ]
    },
    {
     "name": "stderr",
     "output_type": "stream",
     "text": [
      "IMAGEIO FFMPEG_WRITER WARNING: input image is not divisible by macro_block_size=16, resizing from (264, 280) to (272, 288) to ensure video compatibility with most codecs and players. To prevent resizing, make your input image divisible by the macro_block_size or set the macro_block_size to 1 (risking incompatibility).\n"
     ]
    },
    {
     "name": "stdout",
     "output_type": "stream",
     "text": [
      "0.76\n",
      "Moviepy - Building video C:\\Users\\future\\Desktop\\prototype\\avatars_audio\\small_audios\\output0002.mp4.\n",
      "MoviePy - Writing audio in output0002TEMP_MPY_wvf_snd.mp3\n"
     ]
    },
    {
     "name": "stderr",
     "output_type": "stream",
     "text": [
      "                                                       \r"
     ]
    },
    {
     "name": "stdout",
     "output_type": "stream",
     "text": [
      "MoviePy - Done.\n",
      "Moviepy - Writing video C:\\Users\\future\\Desktop\\prototype\\avatars_audio\\small_audios\\output0002.mp4\n",
      "\n"
     ]
    },
    {
     "name": "stderr",
     "output_type": "stream",
     "text": [
      "                                                  \r"
     ]
    },
    {
     "name": "stdout",
     "output_type": "stream",
     "text": [
      "Moviepy - Done !\n",
      "Moviepy - video ready C:\\Users\\future\\Desktop\\prototype\\avatars_audio\\small_audios\\output0002.mp4\n"
     ]
    },
    {
     "name": "stderr",
     "output_type": "stream",
     "text": [
      "IMAGEIO FFMPEG_WRITER WARNING: input image is not divisible by macro_block_size=16, resizing from (264, 280) to (272, 288) to ensure video compatibility with most codecs and players. To prevent resizing, make your input image divisible by the macro_block_size or set the macro_block_size to 1 (risking incompatibility).\n"
     ]
    },
    {
     "name": "stdout",
     "output_type": "stream",
     "text": [
      "0.91\n",
      "Moviepy - Building video C:\\Users\\future\\Desktop\\prototype\\avatars_audio\\small_audios\\output0003.mp4.\n",
      "MoviePy - Writing audio in output0003TEMP_MPY_wvf_snd.mp3\n"
     ]
    },
    {
     "name": "stderr",
     "output_type": "stream",
     "text": [
      "                                                       \r"
     ]
    },
    {
     "name": "stdout",
     "output_type": "stream",
     "text": [
      "MoviePy - Done.\n",
      "Moviepy - Writing video C:\\Users\\future\\Desktop\\prototype\\avatars_audio\\small_audios\\output0003.mp4\n",
      "\n"
     ]
    },
    {
     "name": "stderr",
     "output_type": "stream",
     "text": [
      "                                                  \r"
     ]
    },
    {
     "name": "stdout",
     "output_type": "stream",
     "text": [
      "Moviepy - Done !\n",
      "Moviepy - video ready C:\\Users\\future\\Desktop\\prototype\\avatars_audio\\small_audios\\output0003.mp4\n"
     ]
    },
    {
     "name": "stderr",
     "output_type": "stream",
     "text": [
      "IMAGEIO FFMPEG_WRITER WARNING: input image is not divisible by macro_block_size=16, resizing from (264, 280) to (272, 288) to ensure video compatibility with most codecs and players. To prevent resizing, make your input image divisible by the macro_block_size or set the macro_block_size to 1 (risking incompatibility).\n"
     ]
    },
    {
     "name": "stdout",
     "output_type": "stream",
     "text": [
      "0.62\n",
      "Moviepy - Building video C:\\Users\\future\\Desktop\\prototype\\avatars_audio\\small_audios\\output0004.mp4.\n",
      "MoviePy - Writing audio in output0004TEMP_MPY_wvf_snd.mp3\n"
     ]
    },
    {
     "name": "stderr",
     "output_type": "stream",
     "text": [
      "                                                       \r"
     ]
    },
    {
     "name": "stdout",
     "output_type": "stream",
     "text": [
      "MoviePy - Done.\n",
      "Moviepy - Writing video C:\\Users\\future\\Desktop\\prototype\\avatars_audio\\small_audios\\output0004.mp4\n",
      "\n"
     ]
    },
    {
     "name": "stderr",
     "output_type": "stream",
     "text": [
      "                                                  \r"
     ]
    },
    {
     "name": "stdout",
     "output_type": "stream",
     "text": [
      "Moviepy - Done !\n",
      "Moviepy - video ready C:\\Users\\future\\Desktop\\prototype\\avatars_audio\\small_audios\\output0004.mp4\n"
     ]
    },
    {
     "name": "stderr",
     "output_type": "stream",
     "text": [
      "IMAGEIO FFMPEG_WRITER WARNING: input image is not divisible by macro_block_size=16, resizing from (264, 280) to (272, 288) to ensure video compatibility with most codecs and players. To prevent resizing, make your input image divisible by the macro_block_size or set the macro_block_size to 1 (risking incompatibility).\n"
     ]
    },
    {
     "name": "stdout",
     "output_type": "stream",
     "text": [
      "3.74\n",
      "Moviepy - Building video C:\\Users\\future\\Desktop\\prototype\\avatars_audio\\small_audios\\output0005.mp4.\n",
      "MoviePy - Writing audio in output0005TEMP_MPY_wvf_snd.mp3\n"
     ]
    },
    {
     "name": "stderr",
     "output_type": "stream",
     "text": [
      "                                                                 \r"
     ]
    },
    {
     "name": "stdout",
     "output_type": "stream",
     "text": [
      "MoviePy - Done.\n",
      "Moviepy - Writing video C:\\Users\\future\\Desktop\\prototype\\avatars_audio\\small_audios\\output0005.mp4\n",
      "\n"
     ]
    },
    {
     "name": "stderr",
     "output_type": "stream",
     "text": [
      "                                                   \r"
     ]
    },
    {
     "name": "stdout",
     "output_type": "stream",
     "text": [
      "Moviepy - Done !\n",
      "Moviepy - video ready C:\\Users\\future\\Desktop\\prototype\\avatars_audio\\small_audios\\output0005.mp4\n"
     ]
    },
    {
     "name": "stderr",
     "output_type": "stream",
     "text": [
      "IMAGEIO FFMPEG_WRITER WARNING: input image is not divisible by macro_block_size=16, resizing from (264, 280) to (272, 288) to ensure video compatibility with most codecs and players. To prevent resizing, make your input image divisible by the macro_block_size or set the macro_block_size to 1 (risking incompatibility).\n"
     ]
    },
    {
     "name": "stdout",
     "output_type": "stream",
     "text": [
      "1.13\n",
      "Moviepy - Building video C:\\Users\\future\\Desktop\\prototype\\avatars_audio\\small_audios\\output0006.mp4.\n",
      "MoviePy - Writing audio in output0006TEMP_MPY_wvf_snd.mp3\n"
     ]
    },
    {
     "name": "stderr",
     "output_type": "stream",
     "text": [
      "                                                       \r"
     ]
    },
    {
     "name": "stdout",
     "output_type": "stream",
     "text": [
      "MoviePy - Done.\n",
      "Moviepy - Writing video C:\\Users\\future\\Desktop\\prototype\\avatars_audio\\small_audios\\output0006.mp4\n",
      "\n"
     ]
    },
    {
     "name": "stderr",
     "output_type": "stream",
     "text": [
      "                                                  \r"
     ]
    },
    {
     "name": "stdout",
     "output_type": "stream",
     "text": [
      "Moviepy - Done !\n",
      "Moviepy - video ready C:\\Users\\future\\Desktop\\prototype\\avatars_audio\\small_audios\\output0006.mp4\n"
     ]
    },
    {
     "name": "stderr",
     "output_type": "stream",
     "text": [
      "IMAGEIO FFMPEG_WRITER WARNING: input image is not divisible by macro_block_size=16, resizing from (264, 280) to (272, 288) to ensure video compatibility with most codecs and players. To prevent resizing, make your input image divisible by the macro_block_size or set the macro_block_size to 1 (risking incompatibility).\n"
     ]
    },
    {
     "name": "stdout",
     "output_type": "stream",
     "text": [
      "0.82\n",
      "Moviepy - Building video C:\\Users\\future\\Desktop\\prototype\\avatars_audio\\small_audios\\output0007.mp4.\n",
      "MoviePy - Writing audio in output0007TEMP_MPY_wvf_snd.mp3\n"
     ]
    },
    {
     "name": "stderr",
     "output_type": "stream",
     "text": [
      "                                                       \r"
     ]
    },
    {
     "name": "stdout",
     "output_type": "stream",
     "text": [
      "MoviePy - Done.\n",
      "Moviepy - Writing video C:\\Users\\future\\Desktop\\prototype\\avatars_audio\\small_audios\\output0007.mp4\n",
      "\n"
     ]
    },
    {
     "name": "stderr",
     "output_type": "stream",
     "text": [
      "                                                  \r"
     ]
    },
    {
     "name": "stdout",
     "output_type": "stream",
     "text": [
      "Moviepy - Done !\n",
      "Moviepy - video ready C:\\Users\\future\\Desktop\\prototype\\avatars_audio\\small_audios\\output0007.mp4\n"
     ]
    },
    {
     "name": "stderr",
     "output_type": "stream",
     "text": [
      "IMAGEIO FFMPEG_WRITER WARNING: input image is not divisible by macro_block_size=16, resizing from (264, 280) to (272, 288) to ensure video compatibility with most codecs and players. To prevent resizing, make your input image divisible by the macro_block_size or set the macro_block_size to 1 (risking incompatibility).\n"
     ]
    },
    {
     "name": "stdout",
     "output_type": "stream",
     "text": [
      "0.63\n",
      "Moviepy - Building video C:\\Users\\future\\Desktop\\prototype\\avatars_audio\\small_audios\\output0008.mp4.\n",
      "MoviePy - Writing audio in output0008TEMP_MPY_wvf_snd.mp3\n"
     ]
    },
    {
     "name": "stderr",
     "output_type": "stream",
     "text": [
      "                                                       \r"
     ]
    },
    {
     "name": "stdout",
     "output_type": "stream",
     "text": [
      "MoviePy - Done.\n",
      "Moviepy - Writing video C:\\Users\\future\\Desktop\\prototype\\avatars_audio\\small_audios\\output0008.mp4\n",
      "\n"
     ]
    },
    {
     "name": "stderr",
     "output_type": "stream",
     "text": [
      "                                                  \r"
     ]
    },
    {
     "name": "stdout",
     "output_type": "stream",
     "text": [
      "Moviepy - Done !\n",
      "Moviepy - video ready C:\\Users\\future\\Desktop\\prototype\\avatars_audio\\small_audios\\output0008.mp4\n"
     ]
    },
    {
     "name": "stderr",
     "output_type": "stream",
     "text": [
      "IMAGEIO FFMPEG_WRITER WARNING: input image is not divisible by macro_block_size=16, resizing from (264, 280) to (272, 288) to ensure video compatibility with most codecs and players. To prevent resizing, make your input image divisible by the macro_block_size or set the macro_block_size to 1 (risking incompatibility).\n"
     ]
    },
    {
     "name": "stdout",
     "output_type": "stream",
     "text": [
      "0.6\n",
      "Moviepy - Building video C:\\Users\\future\\Desktop\\prototype\\avatars_audio\\small_audios\\output0009.mp4.\n",
      "MoviePy - Writing audio in output0009TEMP_MPY_wvf_snd.mp3\n"
     ]
    },
    {
     "name": "stderr",
     "output_type": "stream",
     "text": [
      "                                                               "
     ]
    },
    {
     "name": "stdout",
     "output_type": "stream",
     "text": [
      "MoviePy - Done.\n",
      "Moviepy - Writing video C:\\Users\\future\\Desktop\\prototype\\avatars_audio\\small_audios\\output0009.mp4\n",
      "\n"
     ]
    },
    {
     "name": "stderr",
     "output_type": "stream",
     "text": [
      "                                                          \r"
     ]
    },
    {
     "name": "stdout",
     "output_type": "stream",
     "text": [
      "Moviepy - Done !\n",
      "Moviepy - video ready C:\\Users\\future\\Desktop\\prototype\\avatars_audio\\small_audios\\output0009.mp4\n",
      "Moviepy - Building video C:\\Users\\future\\Desktop\\prototype\\videos\\last_video.mp4.\n",
      "MoviePy - Writing audio in last_videoTEMP_MPY_wvf_snd.mp3\n"
     ]
    },
    {
     "name": "stderr",
     "output_type": "stream",
     "text": [
      "                                                                   \r"
     ]
    },
    {
     "name": "stdout",
     "output_type": "stream",
     "text": [
      "MoviePy - Done.\n",
      "Moviepy - Writing video C:\\Users\\future\\Desktop\\prototype\\videos\\last_video.mp4\n",
      "\n"
     ]
    },
    {
     "name": "stderr",
     "output_type": "stream",
     "text": [
      "                                                             \r"
     ]
    },
    {
     "name": "stdout",
     "output_type": "stream",
     "text": [
      "Moviepy - Done !\n",
      "Moviepy - video ready C:\\Users\\future\\Desktop\\prototype\\videos\\last_video.mp4\n",
      "Recording\n",
      "Finished recording\n",
      "C:\\Users\\future\\Desktop\\prototype\\avatars\n",
      " Processed 10/10 waveformsNumber of trainable params:  248488\n",
      " predicted emotion for segment  0 :  disgust\n",
      " predicted emotion for segment  1 :  calm\n",
      " predicted emotion for segment  2 :  calm\n",
      " predicted emotion for segment  3 :  calm\n",
      " predicted emotion for segment  4 :  calm\n",
      " predicted emotion for segment  5 :  calm\n",
      " predicted emotion for segment  6 :  calm\n",
      " predicted emotion for segment  7 :  sad\n",
      " predicted emotion for segment  8 :  calm\n",
      " predicted emotion for segment  9 :  calm\n",
      "['disgust', 'calm', 'calm', 'calm', 'calm', 'calm', 'calm', 'sad', 'calm', 'calm']\n",
      "0.35\n",
      "Moviepy - Building video C:\\Users\\future\\Desktop\\prototype\\avatars_audio\\small_audios\\output0000.mp4.\n",
      "MoviePy - Writing audio in output0000TEMP_MPY_wvf_snd.mp3\n"
     ]
    },
    {
     "name": "stderr",
     "output_type": "stream",
     "text": [
      "                                                      \r"
     ]
    },
    {
     "name": "stdout",
     "output_type": "stream",
     "text": [
      "MoviePy - Done.\n",
      "Moviepy - Writing video C:\\Users\\future\\Desktop\\prototype\\avatars_audio\\small_audios\\output0000.mp4\n",
      "\n"
     ]
    },
    {
     "name": "stderr",
     "output_type": "stream",
     "text": [
      "                                                  \r"
     ]
    },
    {
     "name": "stdout",
     "output_type": "stream",
     "text": [
      "Moviepy - Done !\n",
      "Moviepy - video ready C:\\Users\\future\\Desktop\\prototype\\avatars_audio\\small_audios\\output0000.mp4\n"
     ]
    },
    {
     "name": "stderr",
     "output_type": "stream",
     "text": [
      "IMAGEIO FFMPEG_WRITER WARNING: input image is not divisible by macro_block_size=16, resizing from (264, 280) to (272, 288) to ensure video compatibility with most codecs and players. To prevent resizing, make your input image divisible by the macro_block_size or set the macro_block_size to 1 (risking incompatibility).\n"
     ]
    },
    {
     "name": "stdout",
     "output_type": "stream",
     "text": [
      "3.47\n",
      "Moviepy - Building video C:\\Users\\future\\Desktop\\prototype\\avatars_audio\\small_audios\\output0001.mp4.\n",
      "MoviePy - Writing audio in output0001TEMP_MPY_wvf_snd.mp3\n"
     ]
    },
    {
     "name": "stderr",
     "output_type": "stream",
     "text": [
      "                                                               \r"
     ]
    },
    {
     "name": "stdout",
     "output_type": "stream",
     "text": [
      "MoviePy - Done.\n",
      "Moviepy - Writing video C:\\Users\\future\\Desktop\\prototype\\avatars_audio\\small_audios\\output0001.mp4\n",
      "\n"
     ]
    },
    {
     "name": "stderr",
     "output_type": "stream",
     "text": [
      "                                                           \r"
     ]
    },
    {
     "name": "stdout",
     "output_type": "stream",
     "text": [
      "Moviepy - Done !\n",
      "Moviepy - video ready C:\\Users\\future\\Desktop\\prototype\\avatars_audio\\small_audios\\output0001.mp4\n"
     ]
    },
    {
     "name": "stderr",
     "output_type": "stream",
     "text": [
      "IMAGEIO FFMPEG_WRITER WARNING: input image is not divisible by macro_block_size=16, resizing from (264, 280) to (272, 288) to ensure video compatibility with most codecs and players. To prevent resizing, make your input image divisible by the macro_block_size or set the macro_block_size to 1 (risking incompatibility).\n"
     ]
    },
    {
     "name": "stdout",
     "output_type": "stream",
     "text": [
      "1.67\n",
      "Moviepy - Building video C:\\Users\\future\\Desktop\\prototype\\avatars_audio\\small_audios\\output0002.mp4.\n",
      "MoviePy - Writing audio in output0002TEMP_MPY_wvf_snd.mp3\n"
     ]
    },
    {
     "name": "stderr",
     "output_type": "stream",
     "text": [
      "                                                               \r"
     ]
    },
    {
     "name": "stdout",
     "output_type": "stream",
     "text": [
      "MoviePy - Done.\n",
      "Moviepy - Writing video C:\\Users\\future\\Desktop\\prototype\\avatars_audio\\small_audios\\output0002.mp4\n",
      "\n"
     ]
    },
    {
     "name": "stderr",
     "output_type": "stream",
     "text": [
      "                                                          \r"
     ]
    },
    {
     "name": "stdout",
     "output_type": "stream",
     "text": [
      "Moviepy - Done !\n",
      "Moviepy - video ready C:\\Users\\future\\Desktop\\prototype\\avatars_audio\\small_audios\\output0002.mp4\n"
     ]
    },
    {
     "name": "stderr",
     "output_type": "stream",
     "text": [
      "IMAGEIO FFMPEG_WRITER WARNING: input image is not divisible by macro_block_size=16, resizing from (264, 280) to (272, 288) to ensure video compatibility with most codecs and players. To prevent resizing, make your input image divisible by the macro_block_size or set the macro_block_size to 1 (risking incompatibility).\n"
     ]
    },
    {
     "name": "stdout",
     "output_type": "stream",
     "text": [
      "0.77\n",
      "Moviepy - Building video C:\\Users\\future\\Desktop\\prototype\\avatars_audio\\small_audios\\output0003.mp4.\n",
      "MoviePy - Writing audio in output0003TEMP_MPY_wvf_snd.mp3\n"
     ]
    },
    {
     "name": "stderr",
     "output_type": "stream",
     "text": [
      "                                                       \r"
     ]
    },
    {
     "name": "stdout",
     "output_type": "stream",
     "text": [
      "MoviePy - Done.\n",
      "Moviepy - Writing video C:\\Users\\future\\Desktop\\prototype\\avatars_audio\\small_audios\\output0003.mp4\n",
      "\n"
     ]
    },
    {
     "name": "stderr",
     "output_type": "stream",
     "text": [
      "                                                  \r"
     ]
    },
    {
     "name": "stdout",
     "output_type": "stream",
     "text": [
      "Moviepy - Done !\n",
      "Moviepy - video ready C:\\Users\\future\\Desktop\\prototype\\avatars_audio\\small_audios\\output0003.mp4\n"
     ]
    },
    {
     "name": "stderr",
     "output_type": "stream",
     "text": [
      "IMAGEIO FFMPEG_WRITER WARNING: input image is not divisible by macro_block_size=16, resizing from (264, 280) to (272, 288) to ensure video compatibility with most codecs and players. To prevent resizing, make your input image divisible by the macro_block_size or set the macro_block_size to 1 (risking incompatibility).\n"
     ]
    },
    {
     "name": "stdout",
     "output_type": "stream",
     "text": [
      "4.01\n",
      "Moviepy - Building video C:\\Users\\future\\Desktop\\prototype\\avatars_audio\\small_audios\\output0004.mp4.\n",
      "MoviePy - Writing audio in output0004TEMP_MPY_wvf_snd.mp3\n"
     ]
    },
    {
     "name": "stderr",
     "output_type": "stream",
     "text": [
      "                                                                 \r"
     ]
    },
    {
     "name": "stdout",
     "output_type": "stream",
     "text": [
      "MoviePy - Done.\n",
      "Moviepy - Writing video C:\\Users\\future\\Desktop\\prototype\\avatars_audio\\small_audios\\output0004.mp4\n",
      "\n"
     ]
    },
    {
     "name": "stderr",
     "output_type": "stream",
     "text": [
      "                                                   \r"
     ]
    },
    {
     "name": "stdout",
     "output_type": "stream",
     "text": [
      "Moviepy - Done !\n",
      "Moviepy - video ready C:\\Users\\future\\Desktop\\prototype\\avatars_audio\\small_audios\\output0004.mp4\n"
     ]
    },
    {
     "name": "stderr",
     "output_type": "stream",
     "text": [
      "IMAGEIO FFMPEG_WRITER WARNING: input image is not divisible by macro_block_size=16, resizing from (264, 280) to (272, 288) to ensure video compatibility with most codecs and players. To prevent resizing, make your input image divisible by the macro_block_size or set the macro_block_size to 1 (risking incompatibility).\n"
     ]
    },
    {
     "name": "stdout",
     "output_type": "stream",
     "text": [
      "3.74\n",
      "Moviepy - Building video C:\\Users\\future\\Desktop\\prototype\\avatars_audio\\small_audios\\output0005.mp4.\n",
      "MoviePy - Writing audio in output0005TEMP_MPY_wvf_snd.mp3\n"
     ]
    },
    {
     "name": "stderr",
     "output_type": "stream",
     "text": [
      "                                                                 \r"
     ]
    },
    {
     "name": "stdout",
     "output_type": "stream",
     "text": [
      "MoviePy - Done.\n",
      "Moviepy - Writing video C:\\Users\\future\\Desktop\\prototype\\avatars_audio\\small_audios\\output0005.mp4\n",
      "\n"
     ]
    },
    {
     "name": "stderr",
     "output_type": "stream",
     "text": [
      "                                                   \r"
     ]
    },
    {
     "name": "stdout",
     "output_type": "stream",
     "text": [
      "Moviepy - Done !\n",
      "Moviepy - video ready C:\\Users\\future\\Desktop\\prototype\\avatars_audio\\small_audios\\output0005.mp4\n"
     ]
    },
    {
     "name": "stderr",
     "output_type": "stream",
     "text": [
      "IMAGEIO FFMPEG_WRITER WARNING: input image is not divisible by macro_block_size=16, resizing from (264, 280) to (272, 288) to ensure video compatibility with most codecs and players. To prevent resizing, make your input image divisible by the macro_block_size or set the macro_block_size to 1 (risking incompatibility).\n"
     ]
    },
    {
     "name": "stdout",
     "output_type": "stream",
     "text": [
      "1.13\n",
      "Moviepy - Building video C:\\Users\\future\\Desktop\\prototype\\avatars_audio\\small_audios\\output0006.mp4.\n",
      "MoviePy - Writing audio in output0006TEMP_MPY_wvf_snd.mp3\n"
     ]
    },
    {
     "name": "stderr",
     "output_type": "stream",
     "text": [
      "                                                       \r"
     ]
    },
    {
     "name": "stdout",
     "output_type": "stream",
     "text": [
      "MoviePy - Done.\n",
      "Moviepy - Writing video C:\\Users\\future\\Desktop\\prototype\\avatars_audio\\small_audios\\output0006.mp4\n",
      "\n"
     ]
    },
    {
     "name": "stderr",
     "output_type": "stream",
     "text": [
      "                                                  \r"
     ]
    },
    {
     "name": "stdout",
     "output_type": "stream",
     "text": [
      "Moviepy - Done !\n",
      "Moviepy - video ready C:\\Users\\future\\Desktop\\prototype\\avatars_audio\\small_audios\\output0006.mp4\n"
     ]
    },
    {
     "name": "stderr",
     "output_type": "stream",
     "text": [
      "IMAGEIO FFMPEG_WRITER WARNING: input image is not divisible by macro_block_size=16, resizing from (264, 280) to (272, 288) to ensure video compatibility with most codecs and players. To prevent resizing, make your input image divisible by the macro_block_size or set the macro_block_size to 1 (risking incompatibility).\n"
     ]
    },
    {
     "name": "stdout",
     "output_type": "stream",
     "text": [
      "0.82\n",
      "Moviepy - Building video C:\\Users\\future\\Desktop\\prototype\\avatars_audio\\small_audios\\output0007.mp4.\n",
      "MoviePy - Writing audio in output0007TEMP_MPY_wvf_snd.mp3\n"
     ]
    },
    {
     "name": "stderr",
     "output_type": "stream",
     "text": [
      "                                                       \r"
     ]
    },
    {
     "name": "stdout",
     "output_type": "stream",
     "text": [
      "MoviePy - Done.\n",
      "Moviepy - Writing video C:\\Users\\future\\Desktop\\prototype\\avatars_audio\\small_audios\\output0007.mp4\n",
      "\n"
     ]
    },
    {
     "name": "stderr",
     "output_type": "stream",
     "text": [
      "                                                  \r"
     ]
    },
    {
     "name": "stdout",
     "output_type": "stream",
     "text": [
      "Moviepy - Done !\n",
      "Moviepy - video ready C:\\Users\\future\\Desktop\\prototype\\avatars_audio\\small_audios\\output0007.mp4\n"
     ]
    },
    {
     "name": "stderr",
     "output_type": "stream",
     "text": [
      "IMAGEIO FFMPEG_WRITER WARNING: input image is not divisible by macro_block_size=16, resizing from (264, 280) to (272, 288) to ensure video compatibility with most codecs and players. To prevent resizing, make your input image divisible by the macro_block_size or set the macro_block_size to 1 (risking incompatibility).\n"
     ]
    },
    {
     "name": "stdout",
     "output_type": "stream",
     "text": [
      "0.63\n",
      "Moviepy - Building video C:\\Users\\future\\Desktop\\prototype\\avatars_audio\\small_audios\\output0008.mp4.\n",
      "MoviePy - Writing audio in output0008TEMP_MPY_wvf_snd.mp3\n"
     ]
    },
    {
     "name": "stderr",
     "output_type": "stream",
     "text": [
      "                                                               \r"
     ]
    },
    {
     "name": "stdout",
     "output_type": "stream",
     "text": [
      "MoviePy - Done.\n",
      "Moviepy - Writing video C:\\Users\\future\\Desktop\\prototype\\avatars_audio\\small_audios\\output0008.mp4\n",
      "\n"
     ]
    },
    {
     "name": "stderr",
     "output_type": "stream",
     "text": [
      "                                                          "
     ]
    },
    {
     "name": "stdout",
     "output_type": "stream",
     "text": [
      "Moviepy - Done !\n",
      "Moviepy - video ready C:\\Users\\future\\Desktop\\prototype\\avatars_audio\\small_audios\\output0008.mp4\n"
     ]
    },
    {
     "name": "stderr",
     "output_type": "stream",
     "text": [
      "IMAGEIO FFMPEG_WRITER WARNING: input image is not divisible by macro_block_size=16, resizing from (264, 280) to (272, 288) to ensure video compatibility with most codecs and players. To prevent resizing, make your input image divisible by the macro_block_size or set the macro_block_size to 1 (risking incompatibility).\n"
     ]
    },
    {
     "name": "stdout",
     "output_type": "stream",
     "text": [
      "0.6\n",
      "Moviepy - Building video C:\\Users\\future\\Desktop\\prototype\\avatars_audio\\small_audios\\output0009.mp4.\n",
      "MoviePy - Writing audio in output0009TEMP_MPY_wvf_snd.mp3\n"
     ]
    },
    {
     "name": "stderr",
     "output_type": "stream",
     "text": [
      "                                                               \r"
     ]
    },
    {
     "name": "stdout",
     "output_type": "stream",
     "text": [
      "MoviePy - Done.\n",
      "Moviepy - Writing video C:\\Users\\future\\Desktop\\prototype\\avatars_audio\\small_audios\\output0009.mp4\n",
      "\n"
     ]
    },
    {
     "name": "stderr",
     "output_type": "stream",
     "text": [
      "                                                          \r"
     ]
    },
    {
     "name": "stdout",
     "output_type": "stream",
     "text": [
      "Moviepy - Done !\n",
      "Moviepy - video ready C:\\Users\\future\\Desktop\\prototype\\avatars_audio\\small_audios\\output0009.mp4\n",
      "Moviepy - Building video C:\\Users\\future\\Desktop\\prototype\\videos\\last_video.mp4.\n",
      "MoviePy - Writing audio in last_videoTEMP_MPY_wvf_snd.mp3\n"
     ]
    },
    {
     "name": "stderr",
     "output_type": "stream",
     "text": [
      "                                                                    \r"
     ]
    },
    {
     "name": "stdout",
     "output_type": "stream",
     "text": [
      "MoviePy - Done.\n",
      "Moviepy - Writing video C:\\Users\\future\\Desktop\\prototype\\videos\\last_video.mp4\n",
      "\n"
     ]
    },
    {
     "name": "stderr",
     "output_type": "stream",
     "text": [
      "                                                             \r"
     ]
    },
    {
     "name": "stdout",
     "output_type": "stream",
     "text": [
      "Moviepy - Done !\n",
      "Moviepy - video ready C:\\Users\\future\\Desktop\\prototype\\videos\\last_video.mp4\n",
      "Recording\n",
      "Finished recording\n",
      "C:\\Users\\future\\Desktop\\prototype\\avatars\n",
      " Processed 10/10 waveformsNumber of trainable params:  248488\n",
      " predicted emotion for segment  0 :  calm\n",
      " predicted emotion for segment  1 :  calm\n",
      " predicted emotion for segment  2 :  sad\n",
      " predicted emotion for segment  3 :  happy\n",
      " predicted emotion for segment  4 :  calm\n",
      " predicted emotion for segment  5 :  calm\n",
      " predicted emotion for segment  6 :  calm\n",
      " predicted emotion for segment  7 :  sad\n",
      " predicted emotion for segment  8 :  calm\n",
      " predicted emotion for segment  9 :  calm\n",
      "['calm', 'calm', 'sad', 'happy', 'calm', 'calm', 'calm', 'sad', 'calm', 'calm']\n"
     ]
    },
    {
     "name": "stderr",
     "output_type": "stream",
     "text": [
      "IMAGEIO FFMPEG_WRITER WARNING: input image is not divisible by macro_block_size=16, resizing from (264, 280) to (272, 288) to ensure video compatibility with most codecs and players. To prevent resizing, make your input image divisible by the macro_block_size or set the macro_block_size to 1 (risking incompatibility).\n"
     ]
    },
    {
     "name": "stdout",
     "output_type": "stream",
     "text": [
      "6.58\n",
      "Moviepy - Building video C:\\Users\\future\\Desktop\\prototype\\avatars_audio\\small_audios\\output0000.mp4.\n",
      "MoviePy - Writing audio in output0000TEMP_MPY_wvf_snd.mp3\n"
     ]
    },
    {
     "name": "stderr",
     "output_type": "stream",
     "text": [
      "                                                                  \r"
     ]
    },
    {
     "name": "stdout",
     "output_type": "stream",
     "text": [
      "MoviePy - Done.\n",
      "Moviepy - Writing video C:\\Users\\future\\Desktop\\prototype\\avatars_audio\\small_audios\\output0000.mp4\n",
      "\n"
     ]
    },
    {
     "name": "stderr",
     "output_type": "stream",
     "text": [
      "                                                             \r"
     ]
    },
    {
     "name": "stdout",
     "output_type": "stream",
     "text": [
      "Moviepy - Done !\n",
      "Moviepy - video ready C:\\Users\\future\\Desktop\\prototype\\avatars_audio\\small_audios\\output0000.mp4\n"
     ]
    },
    {
     "name": "stderr",
     "output_type": "stream",
     "text": [
      "IMAGEIO FFMPEG_WRITER WARNING: input image is not divisible by macro_block_size=16, resizing from (264, 280) to (272, 288) to ensure video compatibility with most codecs and players. To prevent resizing, make your input image divisible by the macro_block_size or set the macro_block_size to 1 (risking incompatibility).\n"
     ]
    },
    {
     "name": "stdout",
     "output_type": "stream",
     "text": [
      "0.66\n",
      "Moviepy - Building video C:\\Users\\future\\Desktop\\prototype\\avatars_audio\\small_audios\\output0001.mp4.\n",
      "MoviePy - Writing audio in output0001TEMP_MPY_wvf_snd.mp3\n"
     ]
    },
    {
     "name": "stderr",
     "output_type": "stream",
     "text": [
      "                                                       \r"
     ]
    },
    {
     "name": "stdout",
     "output_type": "stream",
     "text": [
      "MoviePy - Done.\n",
      "Moviepy - Writing video C:\\Users\\future\\Desktop\\prototype\\avatars_audio\\small_audios\\output0001.mp4\n",
      "\n"
     ]
    },
    {
     "name": "stderr",
     "output_type": "stream",
     "text": [
      "                                                  \r"
     ]
    },
    {
     "name": "stdout",
     "output_type": "stream",
     "text": [
      "Moviepy - Done !\n",
      "Moviepy - video ready C:\\Users\\future\\Desktop\\prototype\\avatars_audio\\small_audios\\output0001.mp4\n"
     ]
    },
    {
     "name": "stderr",
     "output_type": "stream",
     "text": [
      "IMAGEIO FFMPEG_WRITER WARNING: input image is not divisible by macro_block_size=16, resizing from (264, 280) to (272, 288) to ensure video compatibility with most codecs and players. To prevent resizing, make your input image divisible by the macro_block_size or set the macro_block_size to 1 (risking incompatibility).\n"
     ]
    },
    {
     "name": "stdout",
     "output_type": "stream",
     "text": [
      "0.6\n",
      "Moviepy - Building video C:\\Users\\future\\Desktop\\prototype\\avatars_audio\\small_audios\\output0002.mp4.\n",
      "MoviePy - Writing audio in output0002TEMP_MPY_wvf_snd.mp3\n"
     ]
    },
    {
     "name": "stderr",
     "output_type": "stream",
     "text": [
      "                                                       \r"
     ]
    },
    {
     "name": "stdout",
     "output_type": "stream",
     "text": [
      "MoviePy - Done.\n",
      "Moviepy - Writing video C:\\Users\\future\\Desktop\\prototype\\avatars_audio\\small_audios\\output0002.mp4\n",
      "\n"
     ]
    },
    {
     "name": "stderr",
     "output_type": "stream",
     "text": [
      "                                                  \r"
     ]
    },
    {
     "name": "stdout",
     "output_type": "stream",
     "text": [
      "Moviepy - Done !\n",
      "Moviepy - video ready C:\\Users\\future\\Desktop\\prototype\\avatars_audio\\small_audios\\output0002.mp4\n"
     ]
    },
    {
     "name": "stderr",
     "output_type": "stream",
     "text": [
      "IMAGEIO FFMPEG_WRITER WARNING: input image is not divisible by macro_block_size=16, resizing from (264, 280) to (272, 288) to ensure video compatibility with most codecs and players. To prevent resizing, make your input image divisible by the macro_block_size or set the macro_block_size to 1 (risking incompatibility).\n"
     ]
    },
    {
     "name": "stdout",
     "output_type": "stream",
     "text": [
      "2.49\n",
      "Moviepy - Building video C:\\Users\\future\\Desktop\\prototype\\avatars_audio\\small_audios\\output0003.mp4.\n",
      "MoviePy - Writing audio in output0003TEMP_MPY_wvf_snd.mp3\n"
     ]
    },
    {
     "name": "stderr",
     "output_type": "stream",
     "text": [
      "                                                                 \r"
     ]
    },
    {
     "name": "stdout",
     "output_type": "stream",
     "text": [
      "MoviePy - Done.\n",
      "Moviepy - Writing video C:\\Users\\future\\Desktop\\prototype\\avatars_audio\\small_audios\\output0003.mp4\n",
      "\n"
     ]
    },
    {
     "name": "stderr",
     "output_type": "stream",
     "text": [
      "                                                  \r"
     ]
    },
    {
     "name": "stdout",
     "output_type": "stream",
     "text": [
      "Moviepy - Done !\n",
      "Moviepy - video ready C:\\Users\\future\\Desktop\\prototype\\avatars_audio\\small_audios\\output0003.mp4\n"
     ]
    },
    {
     "name": "stderr",
     "output_type": "stream",
     "text": [
      "IMAGEIO FFMPEG_WRITER WARNING: input image is not divisible by macro_block_size=16, resizing from (264, 280) to (272, 288) to ensure video compatibility with most codecs and players. To prevent resizing, make your input image divisible by the macro_block_size or set the macro_block_size to 1 (risking incompatibility).\n"
     ]
    },
    {
     "name": "stdout",
     "output_type": "stream",
     "text": [
      "4.01\n",
      "Moviepy - Building video C:\\Users\\future\\Desktop\\prototype\\avatars_audio\\small_audios\\output0004.mp4.\n",
      "MoviePy - Writing audio in output0004TEMP_MPY_wvf_snd.mp3\n"
     ]
    },
    {
     "name": "stderr",
     "output_type": "stream",
     "text": [
      "                                                                 \r"
     ]
    },
    {
     "name": "stdout",
     "output_type": "stream",
     "text": [
      "MoviePy - Done.\n",
      "Moviepy - Writing video C:\\Users\\future\\Desktop\\prototype\\avatars_audio\\small_audios\\output0004.mp4\n",
      "\n"
     ]
    },
    {
     "name": "stderr",
     "output_type": "stream",
     "text": [
      "                                                             \r"
     ]
    },
    {
     "name": "stdout",
     "output_type": "stream",
     "text": [
      "Moviepy - Done !\n",
      "Moviepy - video ready C:\\Users\\future\\Desktop\\prototype\\avatars_audio\\small_audios\\output0004.mp4\n"
     ]
    },
    {
     "name": "stderr",
     "output_type": "stream",
     "text": [
      "IMAGEIO FFMPEG_WRITER WARNING: input image is not divisible by macro_block_size=16, resizing from (264, 280) to (272, 288) to ensure video compatibility with most codecs and players. To prevent resizing, make your input image divisible by the macro_block_size or set the macro_block_size to 1 (risking incompatibility).\n"
     ]
    },
    {
     "name": "stdout",
     "output_type": "stream",
     "text": [
      "3.74\n",
      "Moviepy - Building video C:\\Users\\future\\Desktop\\prototype\\avatars_audio\\small_audios\\output0005.mp4.\n",
      "MoviePy - Writing audio in output0005TEMP_MPY_wvf_snd.mp3\n"
     ]
    },
    {
     "name": "stderr",
     "output_type": "stream",
     "text": [
      "                                                                 \r"
     ]
    },
    {
     "name": "stdout",
     "output_type": "stream",
     "text": [
      "MoviePy - Done.\n",
      "Moviepy - Writing video C:\\Users\\future\\Desktop\\prototype\\avatars_audio\\small_audios\\output0005.mp4\n",
      "\n"
     ]
    },
    {
     "name": "stderr",
     "output_type": "stream",
     "text": [
      "                                                   \r"
     ]
    },
    {
     "name": "stdout",
     "output_type": "stream",
     "text": [
      "Moviepy - Done !\n",
      "Moviepy - video ready C:\\Users\\future\\Desktop\\prototype\\avatars_audio\\small_audios\\output0005.mp4\n"
     ]
    },
    {
     "name": "stderr",
     "output_type": "stream",
     "text": [
      "IMAGEIO FFMPEG_WRITER WARNING: input image is not divisible by macro_block_size=16, resizing from (264, 280) to (272, 288) to ensure video compatibility with most codecs and players. To prevent resizing, make your input image divisible by the macro_block_size or set the macro_block_size to 1 (risking incompatibility).\n"
     ]
    },
    {
     "name": "stdout",
     "output_type": "stream",
     "text": [
      "1.13\n",
      "Moviepy - Building video C:\\Users\\future\\Desktop\\prototype\\avatars_audio\\small_audios\\output0006.mp4.\n",
      "MoviePy - Writing audio in output0006TEMP_MPY_wvf_snd.mp3\n"
     ]
    },
    {
     "name": "stderr",
     "output_type": "stream",
     "text": [
      "                                                               \r"
     ]
    },
    {
     "name": "stdout",
     "output_type": "stream",
     "text": [
      "MoviePy - Done.\n",
      "Moviepy - Writing video C:\\Users\\future\\Desktop\\prototype\\avatars_audio\\small_audios\\output0006.mp4\n",
      "\n"
     ]
    },
    {
     "name": "stderr",
     "output_type": "stream",
     "text": [
      "                                                  \r"
     ]
    },
    {
     "name": "stdout",
     "output_type": "stream",
     "text": [
      "Moviepy - Done !\n",
      "Moviepy - video ready C:\\Users\\future\\Desktop\\prototype\\avatars_audio\\small_audios\\output0006.mp4\n"
     ]
    },
    {
     "name": "stderr",
     "output_type": "stream",
     "text": [
      "IMAGEIO FFMPEG_WRITER WARNING: input image is not divisible by macro_block_size=16, resizing from (264, 280) to (272, 288) to ensure video compatibility with most codecs and players. To prevent resizing, make your input image divisible by the macro_block_size or set the macro_block_size to 1 (risking incompatibility).\n"
     ]
    },
    {
     "name": "stdout",
     "output_type": "stream",
     "text": [
      "0.82\n",
      "Moviepy - Building video C:\\Users\\future\\Desktop\\prototype\\avatars_audio\\small_audios\\output0007.mp4.\n",
      "MoviePy - Writing audio in output0007TEMP_MPY_wvf_snd.mp3\n"
     ]
    },
    {
     "name": "stderr",
     "output_type": "stream",
     "text": [
      "                                                       \r"
     ]
    },
    {
     "name": "stdout",
     "output_type": "stream",
     "text": [
      "MoviePy - Done.\n",
      "Moviepy - Writing video C:\\Users\\future\\Desktop\\prototype\\avatars_audio\\small_audios\\output0007.mp4\n",
      "\n"
     ]
    },
    {
     "name": "stderr",
     "output_type": "stream",
     "text": [
      "                                                  \r"
     ]
    },
    {
     "name": "stdout",
     "output_type": "stream",
     "text": [
      "Moviepy - Done !\n",
      "Moviepy - video ready C:\\Users\\future\\Desktop\\prototype\\avatars_audio\\small_audios\\output0007.mp4\n"
     ]
    },
    {
     "name": "stderr",
     "output_type": "stream",
     "text": [
      "IMAGEIO FFMPEG_WRITER WARNING: input image is not divisible by macro_block_size=16, resizing from (264, 280) to (272, 288) to ensure video compatibility with most codecs and players. To prevent resizing, make your input image divisible by the macro_block_size or set the macro_block_size to 1 (risking incompatibility).\n"
     ]
    },
    {
     "name": "stdout",
     "output_type": "stream",
     "text": [
      "0.63\n",
      "Moviepy - Building video C:\\Users\\future\\Desktop\\prototype\\avatars_audio\\small_audios\\output0008.mp4.\n",
      "MoviePy - Writing audio in output0008TEMP_MPY_wvf_snd.mp3\n"
     ]
    },
    {
     "name": "stderr",
     "output_type": "stream",
     "text": [
      "                                                               "
     ]
    },
    {
     "name": "stdout",
     "output_type": "stream",
     "text": [
      "MoviePy - Done.\n",
      "Moviepy - Writing video C:\\Users\\future\\Desktop\\prototype\\avatars_audio\\small_audios\\output0008.mp4\n",
      "\n"
     ]
    },
    {
     "name": "stderr",
     "output_type": "stream",
     "text": [
      "                                                          "
     ]
    },
    {
     "name": "stdout",
     "output_type": "stream",
     "text": [
      "Moviepy - Done !\n",
      "Moviepy - video ready C:\\Users\\future\\Desktop\\prototype\\avatars_audio\\small_audios\\output0008.mp4\n"
     ]
    },
    {
     "name": "stderr",
     "output_type": "stream",
     "text": [
      "IMAGEIO FFMPEG_WRITER WARNING: input image is not divisible by macro_block_size=16, resizing from (264, 280) to (272, 288) to ensure video compatibility with most codecs and players. To prevent resizing, make your input image divisible by the macro_block_size or set the macro_block_size to 1 (risking incompatibility).\n"
     ]
    },
    {
     "name": "stdout",
     "output_type": "stream",
     "text": [
      "0.6\n",
      "Moviepy - Building video C:\\Users\\future\\Desktop\\prototype\\avatars_audio\\small_audios\\output0009.mp4.\n",
      "MoviePy - Writing audio in output0009TEMP_MPY_wvf_snd.mp3\n"
     ]
    },
    {
     "name": "stderr",
     "output_type": "stream",
     "text": [
      "                                                               "
     ]
    },
    {
     "name": "stdout",
     "output_type": "stream",
     "text": [
      "MoviePy - Done.\n",
      "Moviepy - Writing video C:\\Users\\future\\Desktop\\prototype\\avatars_audio\\small_audios\\output0009.mp4\n",
      "\n"
     ]
    },
    {
     "name": "stderr",
     "output_type": "stream",
     "text": [
      "                                                          \r"
     ]
    },
    {
     "name": "stdout",
     "output_type": "stream",
     "text": [
      "Moviepy - Done !\n",
      "Moviepy - video ready C:\\Users\\future\\Desktop\\prototype\\avatars_audio\\small_audios\\output0009.mp4\n",
      "Moviepy - Building video C:\\Users\\future\\Desktop\\prototype\\videos\\last_video.mp4.\n",
      "MoviePy - Writing audio in last_videoTEMP_MPY_wvf_snd.mp3\n"
     ]
    },
    {
     "name": "stderr",
     "output_type": "stream",
     "text": [
      "                                                                    \r"
     ]
    },
    {
     "name": "stdout",
     "output_type": "stream",
     "text": [
      "MoviePy - Done.\n",
      "Moviepy - Writing video C:\\Users\\future\\Desktop\\prototype\\videos\\last_video.mp4\n",
      "\n"
     ]
    },
    {
     "name": "stderr",
     "output_type": "stream",
     "text": [
      "                                                               \r"
     ]
    },
    {
     "name": "stdout",
     "output_type": "stream",
     "text": [
      "Moviepy - Done !\n",
      "Moviepy - video ready C:\\Users\\future\\Desktop\\prototype\\videos\\last_video.mp4\n",
      "Recording\n",
      "Recording stopped.\n",
      "C:\\Users\\future\\Desktop\\prototype\\avatars\n",
      " Processed 10/10 waveformsNumber of trainable params:  248488\n",
      " predicted emotion for segment  0 :  calm\n",
      " predicted emotion for segment  1 :  calm\n",
      " predicted emotion for segment  2 :  sad\n",
      " predicted emotion for segment  3 :  happy\n",
      " predicted emotion for segment  4 :  calm\n",
      " predicted emotion for segment  5 :  calm\n",
      " predicted emotion for segment  6 :  calm\n",
      " predicted emotion for segment  7 :  sad\n",
      " predicted emotion for segment  8 :  calm\n",
      " predicted emotion for segment  9 :  calm\n",
      "['calm', 'calm', 'sad', 'happy', 'calm', 'calm', 'calm', 'sad', 'calm', 'calm']\n"
     ]
    },
    {
     "name": "stderr",
     "output_type": "stream",
     "text": [
      "IMAGEIO FFMPEG_WRITER WARNING: input image is not divisible by macro_block_size=16, resizing from (264, 280) to (272, 288) to ensure video compatibility with most codecs and players. To prevent resizing, make your input image divisible by the macro_block_size or set the macro_block_size to 1 (risking incompatibility).\n"
     ]
    },
    {
     "name": "stdout",
     "output_type": "stream",
     "text": [
      "6.58\n",
      "Moviepy - Building video C:\\Users\\future\\Desktop\\prototype\\avatars_audio\\small_audios\\output0000.mp4.\n",
      "MoviePy - Writing audio in output0000TEMP_MPY_wvf_snd.mp3\n"
     ]
    },
    {
     "name": "stderr",
     "output_type": "stream",
     "text": [
      "                                                                  \r"
     ]
    },
    {
     "name": "stdout",
     "output_type": "stream",
     "text": [
      "MoviePy - Done.\n",
      "Moviepy - Writing video C:\\Users\\future\\Desktop\\prototype\\avatars_audio\\small_audios\\output0000.mp4\n",
      "\n"
     ]
    },
    {
     "name": "stderr",
     "output_type": "stream",
     "text": [
      "                                                   \r"
     ]
    },
    {
     "name": "stdout",
     "output_type": "stream",
     "text": [
      "Moviepy - Done !\n",
      "Moviepy - video ready C:\\Users\\future\\Desktop\\prototype\\avatars_audio\\small_audios\\output0000.mp4\n"
     ]
    },
    {
     "name": "stderr",
     "output_type": "stream",
     "text": [
      "IMAGEIO FFMPEG_WRITER WARNING: input image is not divisible by macro_block_size=16, resizing from (264, 280) to (272, 288) to ensure video compatibility with most codecs and players. To prevent resizing, make your input image divisible by the macro_block_size or set the macro_block_size to 1 (risking incompatibility).\n"
     ]
    },
    {
     "name": "stdout",
     "output_type": "stream",
     "text": [
      "0.66\n",
      "Moviepy - Building video C:\\Users\\future\\Desktop\\prototype\\avatars_audio\\small_audios\\output0001.mp4.\n",
      "MoviePy - Writing audio in output0001TEMP_MPY_wvf_snd.mp3\n"
     ]
    },
    {
     "name": "stderr",
     "output_type": "stream",
     "text": [
      "                                                               \r"
     ]
    },
    {
     "name": "stdout",
     "output_type": "stream",
     "text": [
      "MoviePy - Done.\n",
      "Moviepy - Writing video C:\\Users\\future\\Desktop\\prototype\\avatars_audio\\small_audios\\output0001.mp4\n",
      "\n"
     ]
    },
    {
     "name": "stderr",
     "output_type": "stream",
     "text": [
      "                                                          \r"
     ]
    },
    {
     "name": "stdout",
     "output_type": "stream",
     "text": [
      "Moviepy - Done !\n",
      "Moviepy - video ready C:\\Users\\future\\Desktop\\prototype\\avatars_audio\\small_audios\\output0001.mp4\n"
     ]
    },
    {
     "name": "stderr",
     "output_type": "stream",
     "text": [
      "IMAGEIO FFMPEG_WRITER WARNING: input image is not divisible by macro_block_size=16, resizing from (264, 280) to (272, 288) to ensure video compatibility with most codecs and players. To prevent resizing, make your input image divisible by the macro_block_size or set the macro_block_size to 1 (risking incompatibility).\n"
     ]
    },
    {
     "name": "stdout",
     "output_type": "stream",
     "text": [
      "0.6\n",
      "Moviepy - Building video C:\\Users\\future\\Desktop\\prototype\\avatars_audio\\small_audios\\output0002.mp4.\n",
      "MoviePy - Writing audio in output0002TEMP_MPY_wvf_snd.mp3\n"
     ]
    },
    {
     "name": "stderr",
     "output_type": "stream",
     "text": [
      "                                                       \r"
     ]
    },
    {
     "name": "stdout",
     "output_type": "stream",
     "text": [
      "MoviePy - Done.\n",
      "Moviepy - Writing video C:\\Users\\future\\Desktop\\prototype\\avatars_audio\\small_audios\\output0002.mp4\n",
      "\n"
     ]
    },
    {
     "name": "stderr",
     "output_type": "stream",
     "text": [
      "                                                  \r"
     ]
    },
    {
     "name": "stdout",
     "output_type": "stream",
     "text": [
      "Moviepy - Done !\n",
      "Moviepy - video ready C:\\Users\\future\\Desktop\\prototype\\avatars_audio\\small_audios\\output0002.mp4\n"
     ]
    },
    {
     "name": "stderr",
     "output_type": "stream",
     "text": [
      "IMAGEIO FFMPEG_WRITER WARNING: input image is not divisible by macro_block_size=16, resizing from (264, 280) to (272, 288) to ensure video compatibility with most codecs and players. To prevent resizing, make your input image divisible by the macro_block_size or set the macro_block_size to 1 (risking incompatibility).\n"
     ]
    },
    {
     "name": "stdout",
     "output_type": "stream",
     "text": [
      "2.49\n",
      "Moviepy - Building video C:\\Users\\future\\Desktop\\prototype\\avatars_audio\\small_audios\\output0003.mp4.\n",
      "MoviePy - Writing audio in output0003TEMP_MPY_wvf_snd.mp3\n"
     ]
    },
    {
     "name": "stderr",
     "output_type": "stream",
     "text": [
      "                                                                 \r"
     ]
    },
    {
     "name": "stdout",
     "output_type": "stream",
     "text": [
      "MoviePy - Done.\n",
      "Moviepy - Writing video C:\\Users\\future\\Desktop\\prototype\\avatars_audio\\small_audios\\output0003.mp4\n",
      "\n"
     ]
    },
    {
     "name": "stderr",
     "output_type": "stream",
     "text": [
      "                                                  \r"
     ]
    },
    {
     "name": "stdout",
     "output_type": "stream",
     "text": [
      "Moviepy - Done !\n",
      "Moviepy - video ready C:\\Users\\future\\Desktop\\prototype\\avatars_audio\\small_audios\\output0003.mp4\n"
     ]
    },
    {
     "name": "stderr",
     "output_type": "stream",
     "text": [
      "IMAGEIO FFMPEG_WRITER WARNING: input image is not divisible by macro_block_size=16, resizing from (264, 280) to (272, 288) to ensure video compatibility with most codecs and players. To prevent resizing, make your input image divisible by the macro_block_size or set the macro_block_size to 1 (risking incompatibility).\n"
     ]
    },
    {
     "name": "stdout",
     "output_type": "stream",
     "text": [
      "4.01\n",
      "Moviepy - Building video C:\\Users\\future\\Desktop\\prototype\\avatars_audio\\small_audios\\output0004.mp4.\n",
      "MoviePy - Writing audio in output0004TEMP_MPY_wvf_snd.mp3\n"
     ]
    },
    {
     "name": "stderr",
     "output_type": "stream",
     "text": [
      "                                                                 \r"
     ]
    },
    {
     "name": "stdout",
     "output_type": "stream",
     "text": [
      "MoviePy - Done.\n",
      "Moviepy - Writing video C:\\Users\\future\\Desktop\\prototype\\avatars_audio\\small_audios\\output0004.mp4\n",
      "\n"
     ]
    },
    {
     "name": "stderr",
     "output_type": "stream",
     "text": [
      "                                                   \r"
     ]
    },
    {
     "name": "stdout",
     "output_type": "stream",
     "text": [
      "Moviepy - Done !\n",
      "Moviepy - video ready C:\\Users\\future\\Desktop\\prototype\\avatars_audio\\small_audios\\output0004.mp4\n"
     ]
    },
    {
     "name": "stderr",
     "output_type": "stream",
     "text": [
      "IMAGEIO FFMPEG_WRITER WARNING: input image is not divisible by macro_block_size=16, resizing from (264, 280) to (272, 288) to ensure video compatibility with most codecs and players. To prevent resizing, make your input image divisible by the macro_block_size or set the macro_block_size to 1 (risking incompatibility).\n"
     ]
    },
    {
     "name": "stdout",
     "output_type": "stream",
     "text": [
      "3.74\n",
      "Moviepy - Building video C:\\Users\\future\\Desktop\\prototype\\avatars_audio\\small_audios\\output0005.mp4.\n",
      "MoviePy - Writing audio in output0005TEMP_MPY_wvf_snd.mp3\n"
     ]
    },
    {
     "name": "stderr",
     "output_type": "stream",
     "text": [
      "                                                                 \r"
     ]
    },
    {
     "name": "stdout",
     "output_type": "stream",
     "text": [
      "MoviePy - Done.\n",
      "Moviepy - Writing video C:\\Users\\future\\Desktop\\prototype\\avatars_audio\\small_audios\\output0005.mp4\n",
      "\n"
     ]
    },
    {
     "name": "stderr",
     "output_type": "stream",
     "text": [
      "                                                            \r"
     ]
    },
    {
     "name": "stdout",
     "output_type": "stream",
     "text": [
      "Moviepy - Done !\n",
      "Moviepy - video ready C:\\Users\\future\\Desktop\\prototype\\avatars_audio\\small_audios\\output0005.mp4\n"
     ]
    },
    {
     "name": "stderr",
     "output_type": "stream",
     "text": [
      "IMAGEIO FFMPEG_WRITER WARNING: input image is not divisible by macro_block_size=16, resizing from (264, 280) to (272, 288) to ensure video compatibility with most codecs and players. To prevent resizing, make your input image divisible by the macro_block_size or set the macro_block_size to 1 (risking incompatibility).\n"
     ]
    },
    {
     "name": "stdout",
     "output_type": "stream",
     "text": [
      "1.13\n",
      "Moviepy - Building video C:\\Users\\future\\Desktop\\prototype\\avatars_audio\\small_audios\\output0006.mp4.\n",
      "MoviePy - Writing audio in output0006TEMP_MPY_wvf_snd.mp3\n"
     ]
    },
    {
     "name": "stderr",
     "output_type": "stream",
     "text": [
      "                                                       \r"
     ]
    },
    {
     "name": "stdout",
     "output_type": "stream",
     "text": [
      "MoviePy - Done.\n",
      "Moviepy - Writing video C:\\Users\\future\\Desktop\\prototype\\avatars_audio\\small_audios\\output0006.mp4\n",
      "\n"
     ]
    },
    {
     "name": "stderr",
     "output_type": "stream",
     "text": [
      "                                                  \r"
     ]
    },
    {
     "name": "stdout",
     "output_type": "stream",
     "text": [
      "Moviepy - Done !\n",
      "Moviepy - video ready C:\\Users\\future\\Desktop\\prototype\\avatars_audio\\small_audios\\output0006.mp4\n"
     ]
    },
    {
     "name": "stderr",
     "output_type": "stream",
     "text": [
      "IMAGEIO FFMPEG_WRITER WARNING: input image is not divisible by macro_block_size=16, resizing from (264, 280) to (272, 288) to ensure video compatibility with most codecs and players. To prevent resizing, make your input image divisible by the macro_block_size or set the macro_block_size to 1 (risking incompatibility).\n"
     ]
    },
    {
     "name": "stdout",
     "output_type": "stream",
     "text": [
      "0.82\n",
      "Moviepy - Building video C:\\Users\\future\\Desktop\\prototype\\avatars_audio\\small_audios\\output0007.mp4.\n",
      "MoviePy - Writing audio in output0007TEMP_MPY_wvf_snd.mp3\n"
     ]
    },
    {
     "name": "stderr",
     "output_type": "stream",
     "text": [
      "                                                       \r"
     ]
    },
    {
     "name": "stdout",
     "output_type": "stream",
     "text": [
      "MoviePy - Done.\n",
      "Moviepy - Writing video C:\\Users\\future\\Desktop\\prototype\\avatars_audio\\small_audios\\output0007.mp4\n",
      "\n"
     ]
    },
    {
     "name": "stderr",
     "output_type": "stream",
     "text": [
      "                                                  \r"
     ]
    },
    {
     "name": "stdout",
     "output_type": "stream",
     "text": [
      "Moviepy - Done !\n",
      "Moviepy - video ready C:\\Users\\future\\Desktop\\prototype\\avatars_audio\\small_audios\\output0007.mp4\n"
     ]
    },
    {
     "name": "stderr",
     "output_type": "stream",
     "text": [
      "IMAGEIO FFMPEG_WRITER WARNING: input image is not divisible by macro_block_size=16, resizing from (264, 280) to (272, 288) to ensure video compatibility with most codecs and players. To prevent resizing, make your input image divisible by the macro_block_size or set the macro_block_size to 1 (risking incompatibility).\n"
     ]
    },
    {
     "name": "stdout",
     "output_type": "stream",
     "text": [
      "0.63\n",
      "Moviepy - Building video C:\\Users\\future\\Desktop\\prototype\\avatars_audio\\small_audios\\output0008.mp4.\n",
      "MoviePy - Writing audio in output0008TEMP_MPY_wvf_snd.mp3\n"
     ]
    },
    {
     "name": "stderr",
     "output_type": "stream",
     "text": [
      "                                                                 \r"
     ]
    },
    {
     "name": "stdout",
     "output_type": "stream",
     "text": [
      "MoviePy - Done.\n",
      "Moviepy - Writing video C:\\Users\\future\\Desktop\\prototype\\avatars_audio\\small_audios\\output0008.mp4\n",
      "\n"
     ]
    },
    {
     "name": "stderr",
     "output_type": "stream",
     "text": [
      "                                                  \r"
     ]
    },
    {
     "name": "stdout",
     "output_type": "stream",
     "text": [
      "Moviepy - Done !\n",
      "Moviepy - video ready C:\\Users\\future\\Desktop\\prototype\\avatars_audio\\small_audios\\output0008.mp4\n"
     ]
    },
    {
     "name": "stderr",
     "output_type": "stream",
     "text": [
      "IMAGEIO FFMPEG_WRITER WARNING: input image is not divisible by macro_block_size=16, resizing from (264, 280) to (272, 288) to ensure video compatibility with most codecs and players. To prevent resizing, make your input image divisible by the macro_block_size or set the macro_block_size to 1 (risking incompatibility).\n"
     ]
    },
    {
     "name": "stdout",
     "output_type": "stream",
     "text": [
      "0.6\n",
      "Moviepy - Building video C:\\Users\\future\\Desktop\\prototype\\avatars_audio\\small_audios\\output0009.mp4.\n",
      "MoviePy - Writing audio in output0009TEMP_MPY_wvf_snd.mp3\n"
     ]
    },
    {
     "name": "stderr",
     "output_type": "stream",
     "text": [
      "                                                       \r"
     ]
    },
    {
     "name": "stdout",
     "output_type": "stream",
     "text": [
      "MoviePy - Done.\n",
      "Moviepy - Writing video C:\\Users\\future\\Desktop\\prototype\\avatars_audio\\small_audios\\output0009.mp4\n",
      "\n"
     ]
    },
    {
     "name": "stderr",
     "output_type": "stream",
     "text": [
      "                                                  \r"
     ]
    },
    {
     "name": "stdout",
     "output_type": "stream",
     "text": [
      "Moviepy - Done !\n",
      "Moviepy - video ready C:\\Users\\future\\Desktop\\prototype\\avatars_audio\\small_audios\\output0009.mp4\n",
      "Moviepy - Building video C:\\Users\\future\\Desktop\\prototype\\videos\\last_video.mp4.\n",
      "MoviePy - Writing audio in last_videoTEMP_MPY_wvf_snd.mp3\n"
     ]
    },
    {
     "name": "stderr",
     "output_type": "stream",
     "text": [
      "                                                                   \r"
     ]
    },
    {
     "name": "stdout",
     "output_type": "stream",
     "text": [
      "MoviePy - Done.\n",
      "Moviepy - Writing video C:\\Users\\future\\Desktop\\prototype\\videos\\last_video.mp4\n",
      "\n"
     ]
    },
    {
     "name": "stderr",
     "output_type": "stream",
     "text": [
      "                                                              \r"
     ]
    },
    {
     "name": "stdout",
     "output_type": "stream",
     "text": [
      "Moviepy - Done !\n",
      "Moviepy - video ready C:\\Users\\future\\Desktop\\prototype\\videos\\last_video.mp4\n",
      "C:\\Users\\future\\Desktop\\prototype\\avatars\n",
      " Processed 10/10 waveformsNumber of trainable params:  248488\n",
      " predicted emotion for segment  0 :  calm\n",
      " predicted emotion for segment  1 :  calm\n",
      " predicted emotion for segment  2 :  sad\n",
      " predicted emotion for segment  3 :  happy\n",
      " predicted emotion for segment  4 :  calm\n",
      " predicted emotion for segment  5 :  calm\n",
      " predicted emotion for segment  6 :  calm\n",
      " predicted emotion for segment  7 :  sad\n",
      " predicted emotion for segment  8 :  calm\n",
      " predicted emotion for segment  9 :  calm\n",
      "['calm', 'calm', 'sad', 'happy', 'calm', 'calm', 'calm', 'sad', 'calm', 'calm']\n"
     ]
    },
    {
     "name": "stderr",
     "output_type": "stream",
     "text": [
      "IMAGEIO FFMPEG_WRITER WARNING: input image is not divisible by macro_block_size=16, resizing from (264, 280) to (272, 288) to ensure video compatibility with most codecs and players. To prevent resizing, make your input image divisible by the macro_block_size or set the macro_block_size to 1 (risking incompatibility).\n"
     ]
    },
    {
     "name": "stdout",
     "output_type": "stream",
     "text": [
      "6.58\n",
      "Moviepy - Building video C:\\Users\\future\\Desktop\\prototype\\avatars_audio\\small_audios\\output0000.mp4.\n",
      "MoviePy - Writing audio in output0000TEMP_MPY_wvf_snd.mp3\n"
     ]
    },
    {
     "name": "stderr",
     "output_type": "stream",
     "text": [
      "                                                                  \r"
     ]
    },
    {
     "name": "stdout",
     "output_type": "stream",
     "text": [
      "MoviePy - Done.\n",
      "Moviepy - Writing video C:\\Users\\future\\Desktop\\prototype\\avatars_audio\\small_audios\\output0000.mp4\n",
      "\n"
     ]
    },
    {
     "name": "stderr",
     "output_type": "stream",
     "text": [
      "                                                             \r"
     ]
    },
    {
     "name": "stdout",
     "output_type": "stream",
     "text": [
      "Moviepy - Done !\n",
      "Moviepy - video ready C:\\Users\\future\\Desktop\\prototype\\avatars_audio\\small_audios\\output0000.mp4\n"
     ]
    },
    {
     "name": "stderr",
     "output_type": "stream",
     "text": [
      "IMAGEIO FFMPEG_WRITER WARNING: input image is not divisible by macro_block_size=16, resizing from (264, 280) to (272, 288) to ensure video compatibility with most codecs and players. To prevent resizing, make your input image divisible by the macro_block_size or set the macro_block_size to 1 (risking incompatibility).\n"
     ]
    },
    {
     "name": "stdout",
     "output_type": "stream",
     "text": [
      "0.66\n",
      "Moviepy - Building video C:\\Users\\future\\Desktop\\prototype\\avatars_audio\\small_audios\\output0001.mp4.\n",
      "MoviePy - Writing audio in output0001TEMP_MPY_wvf_snd.mp3\n"
     ]
    },
    {
     "name": "stderr",
     "output_type": "stream",
     "text": [
      "                                                       \r"
     ]
    },
    {
     "name": "stdout",
     "output_type": "stream",
     "text": [
      "MoviePy - Done.\n",
      "Moviepy - Writing video C:\\Users\\future\\Desktop\\prototype\\avatars_audio\\small_audios\\output0001.mp4\n",
      "\n"
     ]
    },
    {
     "name": "stderr",
     "output_type": "stream",
     "text": [
      "                                                  \r"
     ]
    },
    {
     "name": "stdout",
     "output_type": "stream",
     "text": [
      "Moviepy - Done !\n",
      "Moviepy - video ready C:\\Users\\future\\Desktop\\prototype\\avatars_audio\\small_audios\\output0001.mp4\n"
     ]
    },
    {
     "name": "stderr",
     "output_type": "stream",
     "text": [
      "IMAGEIO FFMPEG_WRITER WARNING: input image is not divisible by macro_block_size=16, resizing from (264, 280) to (272, 288) to ensure video compatibility with most codecs and players. To prevent resizing, make your input image divisible by the macro_block_size or set the macro_block_size to 1 (risking incompatibility).\n"
     ]
    },
    {
     "name": "stdout",
     "output_type": "stream",
     "text": [
      "0.6\n",
      "Moviepy - Building video C:\\Users\\future\\Desktop\\prototype\\avatars_audio\\small_audios\\output0002.mp4.\n",
      "MoviePy - Writing audio in output0002TEMP_MPY_wvf_snd.mp3\n"
     ]
    },
    {
     "name": "stderr",
     "output_type": "stream",
     "text": [
      "                                                       \r"
     ]
    },
    {
     "name": "stdout",
     "output_type": "stream",
     "text": [
      "MoviePy - Done.\n",
      "Moviepy - Writing video C:\\Users\\future\\Desktop\\prototype\\avatars_audio\\small_audios\\output0002.mp4\n",
      "\n"
     ]
    },
    {
     "name": "stderr",
     "output_type": "stream",
     "text": [
      "                                                  \r"
     ]
    },
    {
     "name": "stdout",
     "output_type": "stream",
     "text": [
      "Moviepy - Done !\n",
      "Moviepy - video ready C:\\Users\\future\\Desktop\\prototype\\avatars_audio\\small_audios\\output0002.mp4\n"
     ]
    },
    {
     "name": "stderr",
     "output_type": "stream",
     "text": [
      "IMAGEIO FFMPEG_WRITER WARNING: input image is not divisible by macro_block_size=16, resizing from (264, 280) to (272, 288) to ensure video compatibility with most codecs and players. To prevent resizing, make your input image divisible by the macro_block_size or set the macro_block_size to 1 (risking incompatibility).\n"
     ]
    },
    {
     "name": "stdout",
     "output_type": "stream",
     "text": [
      "2.49\n",
      "Moviepy - Building video C:\\Users\\future\\Desktop\\prototype\\avatars_audio\\small_audios\\output0003.mp4.\n",
      "MoviePy - Writing audio in output0003TEMP_MPY_wvf_snd.mp3\n"
     ]
    },
    {
     "name": "stderr",
     "output_type": "stream",
     "text": [
      "                                                                 \r"
     ]
    },
    {
     "name": "stdout",
     "output_type": "stream",
     "text": [
      "MoviePy - Done.\n",
      "Moviepy - Writing video C:\\Users\\future\\Desktop\\prototype\\avatars_audio\\small_audios\\output0003.mp4\n",
      "\n"
     ]
    },
    {
     "name": "stderr",
     "output_type": "stream",
     "text": [
      "                                                  \r"
     ]
    },
    {
     "name": "stdout",
     "output_type": "stream",
     "text": [
      "Moviepy - Done !\n",
      "Moviepy - video ready C:\\Users\\future\\Desktop\\prototype\\avatars_audio\\small_audios\\output0003.mp4\n"
     ]
    },
    {
     "name": "stderr",
     "output_type": "stream",
     "text": [
      "IMAGEIO FFMPEG_WRITER WARNING: input image is not divisible by macro_block_size=16, resizing from (264, 280) to (272, 288) to ensure video compatibility with most codecs and players. To prevent resizing, make your input image divisible by the macro_block_size or set the macro_block_size to 1 (risking incompatibility).\n"
     ]
    },
    {
     "name": "stdout",
     "output_type": "stream",
     "text": [
      "4.01\n",
      "Moviepy - Building video C:\\Users\\future\\Desktop\\prototype\\avatars_audio\\small_audios\\output0004.mp4.\n",
      "MoviePy - Writing audio in output0004TEMP_MPY_wvf_snd.mp3\n"
     ]
    },
    {
     "name": "stderr",
     "output_type": "stream",
     "text": [
      "                                                                 \r"
     ]
    },
    {
     "name": "stdout",
     "output_type": "stream",
     "text": [
      "MoviePy - Done.\n",
      "Moviepy - Writing video C:\\Users\\future\\Desktop\\prototype\\avatars_audio\\small_audios\\output0004.mp4\n",
      "\n"
     ]
    },
    {
     "name": "stderr",
     "output_type": "stream",
     "text": [
      "                                                           \r"
     ]
    },
    {
     "name": "stdout",
     "output_type": "stream",
     "text": [
      "Moviepy - Done !\n",
      "Moviepy - video ready C:\\Users\\future\\Desktop\\prototype\\avatars_audio\\small_audios\\output0004.mp4\n"
     ]
    },
    {
     "name": "stderr",
     "output_type": "stream",
     "text": [
      "IMAGEIO FFMPEG_WRITER WARNING: input image is not divisible by macro_block_size=16, resizing from (264, 280) to (272, 288) to ensure video compatibility with most codecs and players. To prevent resizing, make your input image divisible by the macro_block_size or set the macro_block_size to 1 (risking incompatibility).\n"
     ]
    },
    {
     "name": "stdout",
     "output_type": "stream",
     "text": [
      "3.74\n",
      "Moviepy - Building video C:\\Users\\future\\Desktop\\prototype\\avatars_audio\\small_audios\\output0005.mp4.\n",
      "MoviePy - Writing audio in output0005TEMP_MPY_wvf_snd.mp3\n"
     ]
    },
    {
     "name": "stderr",
     "output_type": "stream",
     "text": [
      "                                                                 "
     ]
    },
    {
     "name": "stdout",
     "output_type": "stream",
     "text": [
      "MoviePy - Done.\n",
      "Moviepy - Writing video C:\\Users\\future\\Desktop\\prototype\\avatars_audio\\small_audios\\output0005.mp4\n",
      "\n"
     ]
    },
    {
     "name": "stderr",
     "output_type": "stream",
     "text": [
      "                                                             \r"
     ]
    },
    {
     "name": "stdout",
     "output_type": "stream",
     "text": [
      "Moviepy - Done !\n",
      "Moviepy - video ready C:\\Users\\future\\Desktop\\prototype\\avatars_audio\\small_audios\\output0005.mp4\n"
     ]
    },
    {
     "name": "stderr",
     "output_type": "stream",
     "text": [
      "IMAGEIO FFMPEG_WRITER WARNING: input image is not divisible by macro_block_size=16, resizing from (264, 280) to (272, 288) to ensure video compatibility with most codecs and players. To prevent resizing, make your input image divisible by the macro_block_size or set the macro_block_size to 1 (risking incompatibility).\n"
     ]
    },
    {
     "name": "stdout",
     "output_type": "stream",
     "text": [
      "1.13\n",
      "Moviepy - Building video C:\\Users\\future\\Desktop\\prototype\\avatars_audio\\small_audios\\output0006.mp4.\n",
      "MoviePy - Writing audio in output0006TEMP_MPY_wvf_snd.mp3\n"
     ]
    },
    {
     "name": "stderr",
     "output_type": "stream",
     "text": [
      "                                                                 \r"
     ]
    },
    {
     "name": "stdout",
     "output_type": "stream",
     "text": [
      "MoviePy - Done.\n",
      "Moviepy - Writing video C:\\Users\\future\\Desktop\\prototype\\avatars_audio\\small_audios\\output0006.mp4\n",
      "\n"
     ]
    },
    {
     "name": "stderr",
     "output_type": "stream",
     "text": [
      "                                                  \r"
     ]
    },
    {
     "name": "stdout",
     "output_type": "stream",
     "text": [
      "Moviepy - Done !\n",
      "Moviepy - video ready C:\\Users\\future\\Desktop\\prototype\\avatars_audio\\small_audios\\output0006.mp4\n"
     ]
    },
    {
     "name": "stderr",
     "output_type": "stream",
     "text": [
      "IMAGEIO FFMPEG_WRITER WARNING: input image is not divisible by macro_block_size=16, resizing from (264, 280) to (272, 288) to ensure video compatibility with most codecs and players. To prevent resizing, make your input image divisible by the macro_block_size or set the macro_block_size to 1 (risking incompatibility).\n"
     ]
    },
    {
     "name": "stdout",
     "output_type": "stream",
     "text": [
      "0.82\n",
      "Moviepy - Building video C:\\Users\\future\\Desktop\\prototype\\avatars_audio\\small_audios\\output0007.mp4.\n",
      "MoviePy - Writing audio in output0007TEMP_MPY_wvf_snd.mp3\n"
     ]
    },
    {
     "name": "stderr",
     "output_type": "stream",
     "text": [
      "                                                       \r"
     ]
    },
    {
     "name": "stdout",
     "output_type": "stream",
     "text": [
      "MoviePy - Done.\n",
      "Moviepy - Writing video C:\\Users\\future\\Desktop\\prototype\\avatars_audio\\small_audios\\output0007.mp4\n",
      "\n"
     ]
    },
    {
     "name": "stderr",
     "output_type": "stream",
     "text": [
      "                                                  \r"
     ]
    },
    {
     "name": "stdout",
     "output_type": "stream",
     "text": [
      "Moviepy - Done !\n",
      "Moviepy - video ready C:\\Users\\future\\Desktop\\prototype\\avatars_audio\\small_audios\\output0007.mp4\n"
     ]
    },
    {
     "name": "stderr",
     "output_type": "stream",
     "text": [
      "IMAGEIO FFMPEG_WRITER WARNING: input image is not divisible by macro_block_size=16, resizing from (264, 280) to (272, 288) to ensure video compatibility with most codecs and players. To prevent resizing, make your input image divisible by the macro_block_size or set the macro_block_size to 1 (risking incompatibility).\n"
     ]
    },
    {
     "name": "stdout",
     "output_type": "stream",
     "text": [
      "0.63\n",
      "Moviepy - Building video C:\\Users\\future\\Desktop\\prototype\\avatars_audio\\small_audios\\output0008.mp4.\n",
      "MoviePy - Writing audio in output0008TEMP_MPY_wvf_snd.mp3\n"
     ]
    },
    {
     "name": "stderr",
     "output_type": "stream",
     "text": [
      "                                                       \r"
     ]
    },
    {
     "name": "stdout",
     "output_type": "stream",
     "text": [
      "MoviePy - Done.\n",
      "Moviepy - Writing video C:\\Users\\future\\Desktop\\prototype\\avatars_audio\\small_audios\\output0008.mp4\n",
      "\n"
     ]
    },
    {
     "name": "stderr",
     "output_type": "stream",
     "text": [
      "                                                  \r"
     ]
    },
    {
     "name": "stdout",
     "output_type": "stream",
     "text": [
      "Moviepy - Done !\n",
      "Moviepy - video ready C:\\Users\\future\\Desktop\\prototype\\avatars_audio\\small_audios\\output0008.mp4\n"
     ]
    },
    {
     "name": "stderr",
     "output_type": "stream",
     "text": [
      "IMAGEIO FFMPEG_WRITER WARNING: input image is not divisible by macro_block_size=16, resizing from (264, 280) to (272, 288) to ensure video compatibility with most codecs and players. To prevent resizing, make your input image divisible by the macro_block_size or set the macro_block_size to 1 (risking incompatibility).\n"
     ]
    },
    {
     "name": "stdout",
     "output_type": "stream",
     "text": [
      "0.6\n",
      "Moviepy - Building video C:\\Users\\future\\Desktop\\prototype\\avatars_audio\\small_audios\\output0009.mp4.\n",
      "MoviePy - Writing audio in output0009TEMP_MPY_wvf_snd.mp3\n"
     ]
    },
    {
     "name": "stderr",
     "output_type": "stream",
     "text": [
      "                                                       \r"
     ]
    },
    {
     "name": "stdout",
     "output_type": "stream",
     "text": [
      "MoviePy - Done.\n",
      "Moviepy - Writing video C:\\Users\\future\\Desktop\\prototype\\avatars_audio\\small_audios\\output0009.mp4\n",
      "\n"
     ]
    },
    {
     "name": "stderr",
     "output_type": "stream",
     "text": [
      "                                                  \r"
     ]
    },
    {
     "name": "stdout",
     "output_type": "stream",
     "text": [
      "Moviepy - Done !\n",
      "Moviepy - video ready C:\\Users\\future\\Desktop\\prototype\\avatars_audio\\small_audios\\output0009.mp4\n",
      "Moviepy - Building video C:\\Users\\future\\Desktop\\prototype\\videos\\last_video.mp4.\n",
      "MoviePy - Writing audio in last_videoTEMP_MPY_wvf_snd.mp3\n"
     ]
    },
    {
     "name": "stderr",
     "output_type": "stream",
     "text": [
      "                                                                    \r"
     ]
    },
    {
     "name": "stdout",
     "output_type": "stream",
     "text": [
      "MoviePy - Done.\n",
      "Moviepy - Writing video C:\\Users\\future\\Desktop\\prototype\\videos\\last_video.mp4\n",
      "\n"
     ]
    },
    {
     "name": "stderr",
     "output_type": "stream",
     "text": [
      "                                                              "
     ]
    },
    {
     "name": "stdout",
     "output_type": "stream",
     "text": [
      "Moviepy - Done !\n",
      "Moviepy - video ready C:\\Users\\future\\Desktop\\prototype\\videos\\last_video.mp4\n"
     ]
    },
    {
     "name": "stderr",
     "output_type": "stream",
     "text": [
      "\r"
     ]
    }
   ],
   "source": [
    "gender='girl'\n",
    "audio_path=r\"C:\\Users\\future\\Desktop\\prototype\\Realtime\\audio_chunk_0.wav\"\n",
    "realTime(audio_path,gender)\n",
    "realtime_final_video(gender,audio_path)"
   ]
  },
  {
   "cell_type": "markdown",
   "id": "3be82590",
   "metadata": {},
   "source": []
  }
 ],
 "metadata": {
  "kernelspec": {
   "display_name": "Python 3 (ipykernel)",
   "language": "python",
   "name": "python3"
  },
  "language_info": {
   "codemirror_mode": {
    "name": "ipython",
    "version": 3
   },
   "file_extension": ".py",
   "mimetype": "text/x-python",
   "name": "python",
   "nbconvert_exporter": "python",
   "pygments_lexer": "ipython3",
   "version": "3.7.12"
  }
 },
 "nbformat": 4,
 "nbformat_minor": 5
}
